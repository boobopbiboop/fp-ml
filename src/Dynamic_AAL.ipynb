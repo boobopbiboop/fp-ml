{
  "nbformat": 4,
  "nbformat_minor": 0,
  "metadata": {
    "colab": {
      "provenance": [],
      "gpuType": "T4"
    },
    "kernelspec": {
      "name": "python3",
      "display_name": "Python 3"
    },
    "language_info": {
      "name": "python"
    },
    "accelerator": "GPU"
  },
  "cells": [
    {
      "cell_type": "code",
      "execution_count": 3,
      "metadata": {
        "colab": {
          "base_uri": "https://localhost:8080/"
        },
        "id": "vTEL2r2taGg8",
        "outputId": "59f8676c-dae5-463d-e121-2fdea6129a8d"
      },
      "outputs": [
        {
          "output_type": "stream",
          "name": "stdout",
          "text": [
            "Step 1: Mengimpor library dan mendefinisikan fungsi utilitas.\n",
            "Mounted at /content/drive\n",
            "Google Drive berhasil di-mount.\n",
            "Fungsi utilitas 'word_count' dan 'striphtml' telah didefinisikan.\n"
          ]
        }
      ],
      "source": [
        "# @title Step 1: Setup Awal dan Fungsi Utilitas\n",
        "import pandas as pd\n",
        "import re\n",
        "import string\n",
        "from nltk.tokenize import word_tokenize # Meskipun diimpor, tidak digunakan langsung di sini. Dapat dihapus jika tidak diperlukan nanti.\n",
        "from sklearn.feature_extraction.text import CountVectorizer\n",
        "from nltk.util import ngrams # Meskipun diimpor, tidak digunakan langsung di sini. Dapat dihapus jika tidak diperlukan nanti.\n",
        "from nltk.probability import FreqDist # Meskipun diimpor, tidak digunakan langsung di sini. Dapat dihapus jika tidak diperlukan nanti.\n",
        "from sklearn.preprocessing import LabelEncoder\n",
        "from sklearn.model_selection import train_test_split\n",
        "from sklearn.linear_model import LogisticRegression\n",
        "import numpy as np\n",
        "import pickle # Untuk menyimpan/memuat model, meskipun di Colab, lebih jarang digunakan karena sesi bersifat sementara.\n",
        "from sklearn.metrics import roc_auc_score\n",
        "import matplotlib.pyplot as plt\n",
        "from google.colab import drive\n",
        "\n",
        "print(\"Step 1: Mengimpor library dan mendefinisikan fungsi utilitas.\")\n",
        "\n",
        "# Mount Google Drive\n",
        "drive.mount('/content/drive')\n",
        "print(\"Google Drive berhasil di-mount.\")\n",
        "\n",
        "# Fungsi untuk menghitung jumlah kata dalam dokumen\n",
        "def word_count(s):\n",
        "    return len(s.split())\n",
        "\n",
        "# Fungsi untuk menghapus tag HTML dari teks\n",
        "def striphtml(text):\n",
        "    p = re.compile('<.*?>')\n",
        "    return p.sub('', text)\n",
        "\n",
        "print(\"Fungsi utilitas 'word_count' dan 'striphtml' telah didefinisikan.\")"
      ]
    },
    {
      "cell_type": "code",
      "source": [
        "# @title Step 2: Memuat Data dan Pra-pemrosesan\n",
        "print(\"Step 2: Memuat data dan pra-pemrosesan.\")\n",
        "\n",
        "# Ganti dengan jalur aktual ke dataset Anda di Google Drive\n",
        "try:\n",
        "    df = pd.read_csv(\"/content/drive/MyDrive/Twitter Dataset.csv\")\n",
        "    print(f\"Dataset dimuat. Bentuk: {df.shape}\")\n",
        "    print(\"Melihat 5 baris pertama:\")\n",
        "    display(df.head())\n",
        "except FileNotFoundError:\n",
        "    print(\"ERROR: File 'Twitter Dataset.csv' tidak ditemukan di Google Drive Anda.\")\n",
        "    print(\"Pastikan Anda sudah mengunggahnya ke '/content/drive/MyDrive/' atau sesuaikan jalurnya.\")\n",
        "    # Exit or handle the error gracefully if you want the notebook to continue\n",
        "    raise\n",
        "\n",
        "# Menghapus tag HTML dan mengubah teks menjadi huruf kecil\n",
        "df['tweet'] = df['tweet'].apply(striphtml)\n",
        "df['tweet'] = df['tweet'].str.lower()\n",
        "print(\"Pra-pemrosesan teks selesai (menghapus HTML, lowercase).\")\n",
        "\n",
        "# Memisahkan dataset menjadi dua bagian untuk pelatihan oracle dan eksperimen AAL\n",
        "midpoint = len(df) // 2\n",
        "df1 = df.iloc[:midpoint] # Untuk pelatihan oracle\n",
        "df2 = df.iloc[midpoint:] # Untuk eksperimen active learning\n",
        "print(f\"Dataset dibagi: df1 (Oracle Training) shape={df1.shape}, df2 (AL Experiments) shape={df2.shape}\")\n",
        "\n",
        "# Inisialisasi dan FIT CountVectorizer pada data pelatihan oracle (df1)\n",
        "# Ini memastikan kosakata yang konsisten untuk oracle dan main classifier di AL.\n",
        "cv = CountVectorizer(lowercase=True, ngram_range=(1, 3))\n",
        "cv.fit(df1['tweet']) # Fit CV on the oracle training data\n",
        "print(f\"CountVectorizer diinisialisasi dan di-fit pada data pelatihan Oracle. Jumlah fitur: {len(cv.vocabulary_)}\")\n",
        "\n",
        "print(\"CountVectorizer diinisialisasi.\")"
      ],
      "metadata": {
        "colab": {
          "base_uri": "https://localhost:8080/",
          "height": 328
        },
        "id": "lBDtO_rMblSB",
        "outputId": "ef9bd551-39c7-487d-a017-b05c07e3816f"
      },
      "execution_count": 4,
      "outputs": [
        {
          "output_type": "stream",
          "name": "stdout",
          "text": [
            "Step 2: Memuat data dan pra-pemrosesan.\n",
            "Dataset dimuat. Bentuk: (7920, 3)\n",
            "Melihat 5 baris pertama:\n"
          ]
        },
        {
          "output_type": "display_data",
          "data": {
            "text/plain": [
              "   id  label                                              tweet\n",
              "0   1      0  #fingerprint #Pregnancy Test https://goo.gl/h1...\n",
              "1   2      0  Finally a transparant silicon case ^^ Thanks t...\n",
              "2   3      0  We love this! Would you go? #talk #makememorie...\n",
              "3   4      0  I'm wired I know I'm George I was made that wa...\n",
              "4   5      1  What amazing service! Apple won't even talk to..."
            ],
            "text/html": [
              "\n",
              "  <div id=\"df-749f28e7-356f-4aea-afcb-f109529909e0\" class=\"colab-df-container\">\n",
              "    <div>\n",
              "<style scoped>\n",
              "    .dataframe tbody tr th:only-of-type {\n",
              "        vertical-align: middle;\n",
              "    }\n",
              "\n",
              "    .dataframe tbody tr th {\n",
              "        vertical-align: top;\n",
              "    }\n",
              "\n",
              "    .dataframe thead th {\n",
              "        text-align: right;\n",
              "    }\n",
              "</style>\n",
              "<table border=\"1\" class=\"dataframe\">\n",
              "  <thead>\n",
              "    <tr style=\"text-align: right;\">\n",
              "      <th></th>\n",
              "      <th>id</th>\n",
              "      <th>label</th>\n",
              "      <th>tweet</th>\n",
              "    </tr>\n",
              "  </thead>\n",
              "  <tbody>\n",
              "    <tr>\n",
              "      <th>0</th>\n",
              "      <td>1</td>\n",
              "      <td>0</td>\n",
              "      <td>#fingerprint #Pregnancy Test https://goo.gl/h1...</td>\n",
              "    </tr>\n",
              "    <tr>\n",
              "      <th>1</th>\n",
              "      <td>2</td>\n",
              "      <td>0</td>\n",
              "      <td>Finally a transparant silicon case ^^ Thanks t...</td>\n",
              "    </tr>\n",
              "    <tr>\n",
              "      <th>2</th>\n",
              "      <td>3</td>\n",
              "      <td>0</td>\n",
              "      <td>We love this! Would you go? #talk #makememorie...</td>\n",
              "    </tr>\n",
              "    <tr>\n",
              "      <th>3</th>\n",
              "      <td>4</td>\n",
              "      <td>0</td>\n",
              "      <td>I'm wired I know I'm George I was made that wa...</td>\n",
              "    </tr>\n",
              "    <tr>\n",
              "      <th>4</th>\n",
              "      <td>5</td>\n",
              "      <td>1</td>\n",
              "      <td>What amazing service! Apple won't even talk to...</td>\n",
              "    </tr>\n",
              "  </tbody>\n",
              "</table>\n",
              "</div>\n",
              "    <div class=\"colab-df-buttons\">\n",
              "\n",
              "  <div class=\"colab-df-container\">\n",
              "    <button class=\"colab-df-convert\" onclick=\"convertToInteractive('df-749f28e7-356f-4aea-afcb-f109529909e0')\"\n",
              "            title=\"Convert this dataframe to an interactive table.\"\n",
              "            style=\"display:none;\">\n",
              "\n",
              "  <svg xmlns=\"http://www.w3.org/2000/svg\" height=\"24px\" viewBox=\"0 -960 960 960\">\n",
              "    <path d=\"M120-120v-720h720v720H120Zm60-500h600v-160H180v160Zm220 220h160v-160H400v160Zm0 220h160v-160H400v160ZM180-400h160v-160H180v160Zm440 0h160v-160H620v160ZM180-180h160v-160H180v160Zm440 0h160v-160H620v160Z\"/>\n",
              "  </svg>\n",
              "    </button>\n",
              "\n",
              "  <style>\n",
              "    .colab-df-container {\n",
              "      display:flex;\n",
              "      gap: 12px;\n",
              "    }\n",
              "\n",
              "    .colab-df-convert {\n",
              "      background-color: #E8F0FE;\n",
              "      border: none;\n",
              "      border-radius: 50%;\n",
              "      cursor: pointer;\n",
              "      display: none;\n",
              "      fill: #1967D2;\n",
              "      height: 32px;\n",
              "      padding: 0 0 0 0;\n",
              "      width: 32px;\n",
              "    }\n",
              "\n",
              "    .colab-df-convert:hover {\n",
              "      background-color: #E2EBFA;\n",
              "      box-shadow: 0px 1px 2px rgba(60, 64, 67, 0.3), 0px 1px 3px 1px rgba(60, 64, 67, 0.15);\n",
              "      fill: #174EA6;\n",
              "    }\n",
              "\n",
              "    .colab-df-buttons div {\n",
              "      margin-bottom: 4px;\n",
              "    }\n",
              "\n",
              "    [theme=dark] .colab-df-convert {\n",
              "      background-color: #3B4455;\n",
              "      fill: #D2E3FC;\n",
              "    }\n",
              "\n",
              "    [theme=dark] .colab-df-convert:hover {\n",
              "      background-color: #434B5C;\n",
              "      box-shadow: 0px 1px 3px 1px rgba(0, 0, 0, 0.15);\n",
              "      filter: drop-shadow(0px 1px 2px rgba(0, 0, 0, 0.3));\n",
              "      fill: #FFFFFF;\n",
              "    }\n",
              "  </style>\n",
              "\n",
              "    <script>\n",
              "      const buttonEl =\n",
              "        document.querySelector('#df-749f28e7-356f-4aea-afcb-f109529909e0 button.colab-df-convert');\n",
              "      buttonEl.style.display =\n",
              "        google.colab.kernel.accessAllowed ? 'block' : 'none';\n",
              "\n",
              "      async function convertToInteractive(key) {\n",
              "        const element = document.querySelector('#df-749f28e7-356f-4aea-afcb-f109529909e0');\n",
              "        const dataTable =\n",
              "          await google.colab.kernel.invokeFunction('convertToInteractive',\n",
              "                                                    [key], {});\n",
              "        if (!dataTable) return;\n",
              "\n",
              "        const docLinkHtml = 'Like what you see? Visit the ' +\n",
              "          '<a target=\"_blank\" href=https://colab.research.google.com/notebooks/data_table.ipynb>data table notebook</a>'\n",
              "          + ' to learn more about interactive tables.';\n",
              "        element.innerHTML = '';\n",
              "        dataTable['output_type'] = 'display_data';\n",
              "        await google.colab.output.renderOutput(dataTable, element);\n",
              "        const docLink = document.createElement('div');\n",
              "        docLink.innerHTML = docLinkHtml;\n",
              "        element.appendChild(docLink);\n",
              "      }\n",
              "    </script>\n",
              "  </div>\n",
              "\n",
              "\n",
              "    <div id=\"df-595ed469-bbfb-4913-aacf-9926e6eb1683\">\n",
              "      <button class=\"colab-df-quickchart\" onclick=\"quickchart('df-595ed469-bbfb-4913-aacf-9926e6eb1683')\"\n",
              "                title=\"Suggest charts\"\n",
              "                style=\"display:none;\">\n",
              "\n",
              "<svg xmlns=\"http://www.w3.org/2000/svg\" height=\"24px\"viewBox=\"0 0 24 24\"\n",
              "     width=\"24px\">\n",
              "    <g>\n",
              "        <path d=\"M19 3H5c-1.1 0-2 .9-2 2v14c0 1.1.9 2 2 2h14c1.1 0 2-.9 2-2V5c0-1.1-.9-2-2-2zM9 17H7v-7h2v7zm4 0h-2V7h2v10zm4 0h-2v-4h2v4z\"/>\n",
              "    </g>\n",
              "</svg>\n",
              "      </button>\n",
              "\n",
              "<style>\n",
              "  .colab-df-quickchart {\n",
              "      --bg-color: #E8F0FE;\n",
              "      --fill-color: #1967D2;\n",
              "      --hover-bg-color: #E2EBFA;\n",
              "      --hover-fill-color: #174EA6;\n",
              "      --disabled-fill-color: #AAA;\n",
              "      --disabled-bg-color: #DDD;\n",
              "  }\n",
              "\n",
              "  [theme=dark] .colab-df-quickchart {\n",
              "      --bg-color: #3B4455;\n",
              "      --fill-color: #D2E3FC;\n",
              "      --hover-bg-color: #434B5C;\n",
              "      --hover-fill-color: #FFFFFF;\n",
              "      --disabled-bg-color: #3B4455;\n",
              "      --disabled-fill-color: #666;\n",
              "  }\n",
              "\n",
              "  .colab-df-quickchart {\n",
              "    background-color: var(--bg-color);\n",
              "    border: none;\n",
              "    border-radius: 50%;\n",
              "    cursor: pointer;\n",
              "    display: none;\n",
              "    fill: var(--fill-color);\n",
              "    height: 32px;\n",
              "    padding: 0;\n",
              "    width: 32px;\n",
              "  }\n",
              "\n",
              "  .colab-df-quickchart:hover {\n",
              "    background-color: var(--hover-bg-color);\n",
              "    box-shadow: 0 1px 2px rgba(60, 64, 67, 0.3), 0 1px 3px 1px rgba(60, 64, 67, 0.15);\n",
              "    fill: var(--button-hover-fill-color);\n",
              "  }\n",
              "\n",
              "  .colab-df-quickchart-complete:disabled,\n",
              "  .colab-df-quickchart-complete:disabled:hover {\n",
              "    background-color: var(--disabled-bg-color);\n",
              "    fill: var(--disabled-fill-color);\n",
              "    box-shadow: none;\n",
              "  }\n",
              "\n",
              "  .colab-df-spinner {\n",
              "    border: 2px solid var(--fill-color);\n",
              "    border-color: transparent;\n",
              "    border-bottom-color: var(--fill-color);\n",
              "    animation:\n",
              "      spin 1s steps(1) infinite;\n",
              "  }\n",
              "\n",
              "  @keyframes spin {\n",
              "    0% {\n",
              "      border-color: transparent;\n",
              "      border-bottom-color: var(--fill-color);\n",
              "      border-left-color: var(--fill-color);\n",
              "    }\n",
              "    20% {\n",
              "      border-color: transparent;\n",
              "      border-left-color: var(--fill-color);\n",
              "      border-top-color: var(--fill-color);\n",
              "    }\n",
              "    30% {\n",
              "      border-color: transparent;\n",
              "      border-left-color: var(--fill-color);\n",
              "      border-top-color: var(--fill-color);\n",
              "      border-right-color: var(--fill-color);\n",
              "    }\n",
              "    40% {\n",
              "      border-color: transparent;\n",
              "      border-right-color: var(--fill-color);\n",
              "      border-top-color: var(--fill-color);\n",
              "    }\n",
              "    60% {\n",
              "      border-color: transparent;\n",
              "      border-right-color: var(--fill-color);\n",
              "    }\n",
              "    80% {\n",
              "      border-color: transparent;\n",
              "      border-right-color: var(--fill-color);\n",
              "      border-bottom-color: var(--fill-color);\n",
              "    }\n",
              "    90% {\n",
              "      border-color: transparent;\n",
              "      border-bottom-color: var(--fill-color);\n",
              "    }\n",
              "  }\n",
              "</style>\n",
              "\n",
              "      <script>\n",
              "        async function quickchart(key) {\n",
              "          const quickchartButtonEl =\n",
              "            document.querySelector('#' + key + ' button');\n",
              "          quickchartButtonEl.disabled = true;  // To prevent multiple clicks.\n",
              "          quickchartButtonEl.classList.add('colab-df-spinner');\n",
              "          try {\n",
              "            const charts = await google.colab.kernel.invokeFunction(\n",
              "                'suggestCharts', [key], {});\n",
              "          } catch (error) {\n",
              "            console.error('Error during call to suggestCharts:', error);\n",
              "          }\n",
              "          quickchartButtonEl.classList.remove('colab-df-spinner');\n",
              "          quickchartButtonEl.classList.add('colab-df-quickchart-complete');\n",
              "        }\n",
              "        (() => {\n",
              "          let quickchartButtonEl =\n",
              "            document.querySelector('#df-595ed469-bbfb-4913-aacf-9926e6eb1683 button');\n",
              "          quickchartButtonEl.style.display =\n",
              "            google.colab.kernel.accessAllowed ? 'block' : 'none';\n",
              "        })();\n",
              "      </script>\n",
              "    </div>\n",
              "\n",
              "    </div>\n",
              "  </div>\n"
            ],
            "application/vnd.google.colaboratory.intrinsic+json": {
              "type": "dataframe",
              "summary": "{\n  \"name\": \"print(\\\"CountVectorizer diinisialisasi\",\n  \"rows\": 5,\n  \"fields\": [\n    {\n      \"column\": \"id\",\n      \"properties\": {\n        \"dtype\": \"number\",\n        \"std\": 1,\n        \"min\": 1,\n        \"max\": 5,\n        \"num_unique_values\": 5,\n        \"samples\": [\n          2,\n          5,\n          3\n        ],\n        \"semantic_type\": \"\",\n        \"description\": \"\"\n      }\n    },\n    {\n      \"column\": \"label\",\n      \"properties\": {\n        \"dtype\": \"number\",\n        \"std\": 0,\n        \"min\": 0,\n        \"max\": 1,\n        \"num_unique_values\": 2,\n        \"samples\": [\n          1,\n          0\n        ],\n        \"semantic_type\": \"\",\n        \"description\": \"\"\n      }\n    },\n    {\n      \"column\": \"tweet\",\n      \"properties\": {\n        \"dtype\": \"string\",\n        \"num_unique_values\": 5,\n        \"samples\": [\n          \"Finally a transparant silicon case ^^ Thanks to my uncle :) #yay #Sony #Xperia #S #sonyexperias\\u2026 http://instagram.com/p/YGEt5JC6JM/\",\n          \"What amazing service! Apple won't even talk to me about a question I have unless I pay them $19.95 for their stupid support!\"\n        ],\n        \"semantic_type\": \"\",\n        \"description\": \"\"\n      }\n    }\n  ]\n}"
            }
          },
          "metadata": {}
        },
        {
          "output_type": "stream",
          "name": "stdout",
          "text": [
            "Pra-pemrosesan teks selesai (menghapus HTML, lowercase).\n",
            "Dataset dibagi: df1 (Oracle Training) shape=(3960, 3), df2 (AL Experiments) shape=(3960, 3)\n",
            "CountVectorizer diinisialisasi dan di-fit pada data pelatihan Oracle. Jumlah fitur: 110087\n",
            "CountVectorizer diinisialisasi.\n"
          ]
        }
      ]
    },
    {
      "cell_type": "code",
      "source": [
        "# @title Step 3: Pelatihan Oracle Simulator\n",
        "print(\"Step 3: Pelatihan Oracle Simulator.\")\n",
        "\n",
        "sampled_data_oracle = df1\n",
        "y_oracle_full = sampled_data_oracle['label'] # Mengubah nama variabel menjadi y_oracle_full untuk kejelasan\n",
        "encoder_oracle = LabelEncoder()\n",
        "y_oracle_encoded = encoder_oracle.fit_transform(y_oracle_full) # Menggunakan y_oracle_encoded\n",
        "\n",
        "X_train_oracle_text, X_test_oracle_text, y_train_oracle, y_test_oracle = train_test_split(\n",
        "    sampled_data_oracle['tweet'], y_oracle_encoded, test_size=0.5, random_state=1\n",
        ")\n",
        "\n",
        "# Melatih CountVectorizer pada data pelatihan oracle - REMOVED FIT, using global cv\n",
        "# X_train_bow_oracle = cv.fit_transform(X_train_oracle_text).toarray() # Menggunakan X_train_oracle_text\n",
        "\n",
        "# Use the global cv fitted in Step 2\n",
        "X_train_bow_oracle = cv.transform(X_train_oracle_text).toarray() # Use cv.transform\n",
        "\n",
        "print(f\"Data pelatihan Oracle di-vectorize. Bentuk BOW: {X_train_bow_oracle.shape}\")\n",
        "\n",
        "# Melatih model oracle (Logistic Regression)\n",
        "# Perbaikan: Menggunakan y_train_oracle yang sudah dipisah\n",
        "oracle = LogisticRegression(penalty='l2', C=0.01, multi_class='ovr', solver='liblinear', max_iter=1000).fit(X_train_bow_oracle, y_train_oracle)\n",
        "print(\"Model Oracle (Logistic Regression) berhasil dilatih.\")\n",
        "\n",
        "# Fungsi oracle answering (mengembalikan -1 untuk netral)\n",
        "def answer(oracle_model, x_bow_subinstance):\n",
        "    # Mensimulasikan kepastian oracle berdasarkan probabilitas prediksi\n",
        "    # Jika ketidakpastian (1 - prob_maks) > ambang batas (0.4), kembalikan -1 (netral)\n",
        "    # Jika tidak, kembalikan label yang diprediksi\n",
        "    # Check if x_bow_subinstance is empty\n",
        "    if x_bow_subinstance.shape[0] == 0 or x_bow_subinstance.sum() == 0:\n",
        "         return -1 # Return neutral if the vectorized instance is empty\n",
        "\n",
        "    if 1 - np.max(oracle_model.predict_proba(x_bow_subinstance)[0]) > 0.4:\n",
        "        return -1\n",
        "    return oracle_model.predict(x_bow_subinstance)[0]\n",
        "\n",
        "print(\"Fungsi 'answer' untuk oracle telah didefinisikan.\")\n",
        "\n",
        "# Pemetaan biaya anotasi dari studi pengguna (Tabel 1 dari makalah)\n",
        "# Mengasumsikan biaya dataset 'IMDB' sebagai proksi untuk dataset Twitter\n",
        "COST_PER_K_WORDS = {\n",
        "    10: 5.7,\n",
        "    25: 8.2,\n",
        "    50: 10.9,\n",
        "    75: 15.9,\n",
        "    100: 16.7,\n",
        "    -1: 15.0 # Biaya untuk dokumen penuh (digunakan di Traditional AL)\n",
        "}\n",
        "print(\"Pemetaan biaya per jumlah kata telah didefinisikan.\")"
      ],
      "metadata": {
        "colab": {
          "base_uri": "https://localhost:8080/"
        },
        "id": "aP-kLAj2cJ7Y",
        "outputId": "fa2cab7d-8b7c-4328-dfa5-45256e8edc74"
      },
      "execution_count": 5,
      "outputs": [
        {
          "output_type": "stream",
          "name": "stdout",
          "text": [
            "Step 3: Pelatihan Oracle Simulator.\n",
            "Data pelatihan Oracle di-vectorize. Bentuk BOW: (1980, 110087)\n"
          ]
        },
        {
          "output_type": "stream",
          "name": "stderr",
          "text": [
            "/usr/local/lib/python3.11/dist-packages/sklearn/linear_model/_logistic.py:1256: FutureWarning: 'multi_class' was deprecated in version 1.5 and will be removed in 1.7. Use OneVsRestClassifier(LogisticRegression(..)) instead. Leave it to its default value to avoid this warning.\n",
            "  warnings.warn(\n"
          ]
        },
        {
          "output_type": "stream",
          "name": "stdout",
          "text": [
            "Model Oracle (Logistic Regression) berhasil dilatih.\n",
            "Fungsi 'answer' untuk oracle telah didefinisikan.\n",
            "Pemetaan biaya per jumlah kata telah didefinisikan.\n"
          ]
        }
      ]
    },
    {
      "cell_type": "code",
      "source": [
        "# @title Step 4: Pelatihan Pengklasifikasi Netralitas (untuk Dynamic AAL)\n",
        "print(\"Step 4: Pelatihan Pengklasifikasi Netralitas.\")\n",
        "\n",
        "cv_neutrality_model = CountVectorizer(lowercase=True, ngram_range=(1, 3))\n",
        "\n",
        "X_train_neutrality_text, X_test_neutrality_text, y_train_neutrality_raw, y_test_neutrality_raw = train_test_split(\n",
        "    df1['tweet'], df1['label'], test_size=0.5, random_state=42\n",
        ")\n",
        "\n",
        "cv_neutrality_model.fit(X_train_neutrality_text)\n",
        "\n",
        "neutrality_data = []\n",
        "k_options_for_neutrality_training = [10, 25, 50, 75, 100, -1]\n",
        "\n",
        "for k_size in k_options_for_neutrality_training:\n",
        "    if k_size == -1:\n",
        "        X_k_text_subset = X_train_neutrality_text\n",
        "    else:\n",
        "        X_k_text_subset = X_train_neutrality_text.apply(lambda x: ' '.join(x.split()[:k_size]))\n",
        "\n",
        "    # Transform subset teks using cv_neutrality_model\n",
        "    X_k_bow_subset = cv_neutrality_model.transform(X_k_text_subset)\n",
        "\n",
        "    for i in range(X_k_bow_subset.shape[0]):\n",
        "        # Vectorize the individual subinstance using the main cv object\n",
        "        x_bow_single_instance = cv.transform([X_k_text_subset.iloc[i]])\n",
        "\n",
        "        # Pass the vectorized subinstance to the 'answer' function\n",
        "        oracle_response = answer(oracle_model=oracle, x_bow_subinstance=x_bow_single_instance)\n",
        "\n",
        "        is_non_neutral = 1 if oracle_response != -1 else 0\n",
        "        neutrality_data.append({'subinstance_bow': X_k_bow_subset[i], 'is_non_neutral': is_non_neutral})\n",
        "\n",
        "neutrality_df = pd.DataFrame(neutrality_data)\n",
        "\n",
        "if not neutrality_df.empty:\n",
        "    from scipy.sparse import vstack\n",
        "    X_neutrality = vstack(neutrality_df['subinstance_bow'].tolist())\n",
        "    y_neutrality = neutrality_df['is_non_neutral'].values\n",
        "\n",
        "    neutrality_classifier = LogisticRegression(penalty='l2', C=0.01, multi_class='ovr', solver='liblinear', max_iter=1000).fit(X_neutrality, y_neutrality)\n",
        "    print(\"Pengklasifikasi netralitas berhasil dilatih.\")\n",
        "\n",
        "    def get_prob_non_neutral(neutrality_model, x_bow_subinstance):\n",
        "        if x_bow_subinstance.shape[0] == 0:\n",
        "            return 0.0\n",
        "        return neutrality_model.predict_proba(x_bow_subinstance)[0, 1]\n",
        "    print(\"Fungsi 'get_prob_non_neutral' telah didefinisikan.\")\n",
        "else:\n",
        "    print(\"Peringatan: neutrality_df kosong. Pengklasifikasi netralitas tidak dapat dilatih.\")\n",
        "    neutrality_classifier = None"
      ],
      "metadata": {
        "colab": {
          "base_uri": "https://localhost:8080/"
        },
        "id": "kuYQHvEMcY1f",
        "outputId": "c9f0b5ce-7f75-4c29-af15-e205c23608af"
      },
      "execution_count": 6,
      "outputs": [
        {
          "output_type": "stream",
          "name": "stdout",
          "text": [
            "Step 4: Pelatihan Pengklasifikasi Netralitas.\n",
            "Pengklasifikasi netralitas berhasil dilatih.\n",
            "Fungsi 'get_prob_non_neutral' telah didefinisikan.\n"
          ]
        },
        {
          "output_type": "stream",
          "name": "stderr",
          "text": [
            "/usr/local/lib/python3.11/dist-packages/sklearn/linear_model/_logistic.py:1256: FutureWarning: 'multi_class' was deprecated in version 1.5 and will be removed in 1.7. Use OneVsRestClassifier(LogisticRegression(..)) instead. Leave it to its default value to avoid this warning.\n",
            "  warnings.warn(\n"
          ]
        }
      ]
    },
    {
      "cell_type": "code",
      "source": [
        "# @title Step 5: Fungsi select_subinstance dan run_active_learning_experiment\n",
        "print(\"Step 5: Mendefinisikan fungsi inti untuk eksperimen Active Learning.\")\n",
        "\n",
        "# Fungsi select_subinstance diperbarui untuk menerima teks input dan CV yang sesuai\n",
        "def select_subinstance(main_classifier_model, oracle_model_for_neutrality, k_options=None, utility_func='uncertainty', X_test_full_text=None, U_indices=None):\n",
        "    best_score = -np.inf\n",
        "    selected_idx_in_U_pool_current = -1\n",
        "    selected_k_size = -1\n",
        "\n",
        "    if k_options is None: # Static AAL or Traditional AL\n",
        "        U_current_texts_for_selection = X_test_full_text.iloc[U_indices]\n",
        "        U_current_bow_for_selection = cv.transform(U_current_texts_for_selection) # Gunakan cv global\n",
        "\n",
        "        if utility_func == 'uncertainty':\n",
        "            if U_current_bow_for_selection.shape[0] == 0: return -1, -1\n",
        "            probabilities = main_classifier_model.predict_proba(U_current_bow_for_selection)\n",
        "            utilities = 1 - np.max(probabilities, axis=1)\n",
        "        elif utility_func == 'constant':\n",
        "            utilities = np.ones(U_current_bow_for_selection.shape[0])\n",
        "        else:\n",
        "            raise ValueError(\"utility_func must be 'uncertainty' or 'constant' for static/traditional AL.\")\n",
        "\n",
        "        if len(utilities) > 0:\n",
        "            selected_idx_in_U_pool_current = np.argmax(utilities)\n",
        "\n",
        "        return selected_idx_in_U_pool_current, k_options # k_options akan menjadi None untuk statis/tradisional\n",
        "\n",
        "    else: # Dynamic AAL\n",
        "        candidate_scores = []\n",
        "        candidate_unlabeled_indices_in_U_indices = []\n",
        "        candidate_k_sizes = []\n",
        "\n",
        "        for u_idx_in_pool_current in range(len(U_indices)):\n",
        "            actual_X_test_idx = U_indices[u_idx_in_pool_current]\n",
        "            full_instance_text = X_test_full_text.iloc[actual_X_test_idx]\n",
        "\n",
        "            for k_size_option in k_options:\n",
        "                if k_size_option == -1:\n",
        "                    x_sub_text = full_instance_text\n",
        "                else:\n",
        "                    x_sub_text = ' '.join(full_instance_text.split()[:k_size_option])\n",
        "\n",
        "                if not x_sub_text.strip():\n",
        "                    continue\n",
        "\n",
        "                x_sub_bow_main = cv.transform([x_sub_text]) # Gunakan cv global untuk main_classifier\n",
        "\n",
        "                if utility_func == 'uncertainty':\n",
        "                    main_classifier_probs = main_classifier_model.predict_proba(x_sub_bow_main)\n",
        "                    utility = 1 - np.max(main_classifier_probs)\n",
        "                elif utility_func == 'constant':\n",
        "                    utility = 1.0\n",
        "                else:\n",
        "                    raise ValueError(\"utility_func must be 'uncertainty' or 'constant' for dynamic AL.\")\n",
        "\n",
        "                if oracle_model_for_neutrality is not None:\n",
        "                    # Untuk netralitas, kita harus menggunakan cv_neutrality_model yang spesifik\n",
        "                    x_sub_bow_neutrality = cv_neutrality_model.transform([x_sub_text])\n",
        "                    prob_non_neutral = get_prob_non_neutral(oracle_model_for_neutrality, x_sub_bow_neutrality)\n",
        "                else:\n",
        "                    prob_non_neutral = 1.0\n",
        "\n",
        "                cost_of_subinstance = COST_PER_K_WORDS.get(k_size_option, 15)\n",
        "\n",
        "                score = (utility * prob_non_neutral) / cost_of_subinstance\n",
        "\n",
        "                candidate_scores.append(score)\n",
        "                candidate_unlabeled_indices_in_U_indices.append(u_idx_in_pool_current)\n",
        "                candidate_k_sizes.append(k_size_option)\n",
        "\n",
        "        if not candidate_scores:\n",
        "            return -1, -1\n",
        "\n",
        "        best_overall_idx_in_candidates = np.argmax(candidate_scores)\n",
        "        selected_idx_in_U_pool_current = candidate_unlabeled_indices_in_U_indices[best_overall_idx_in_candidates]\n",
        "        selected_k_size = candidate_k_sizes[best_overall_idx_in_candidates]\n",
        "\n",
        "    return selected_idx_in_U_pool_current, selected_k_size\n",
        "\n",
        "\n",
        "def run_active_learning_experiment(\n",
        "    X_train_initial_bow, y_train_initial, X_test_full_text, y_test_true,\n",
        "    oracle_model, neutrality_model, budget_seconds,\n",
        "    strategy_type, k_fixed=None, utility_func=None, k_options_dynamic=None\n",
        "):\n",
        "    L_bow = X_train_initial_bow.copy()\n",
        "    y_L = y_train_initial.copy()\n",
        "\n",
        "    U_indices = list(range(len(X_test_full_text)))\n",
        "\n",
        "    current_cost = 0\n",
        "    auc_history = []\n",
        "    cost_history = []\n",
        "\n",
        "    main_classifier = LogisticRegression(penalty='l2', C=0.01, multi_class='ovr', solver='liblinear', max_iter=1000)\n",
        "\n",
        "    if L_bow.shape[0] > 0:\n",
        "        main_classifier.fit(L_bow, y_L)\n",
        "        X_test_bow_eval = cv.transform(X_test_full_text) # Gunakan cv global\n",
        "        y_test_pred_eval = main_classifier.predict_proba(X_test_bow_eval)[:, 1]\n",
        "        auc_history.append(roc_auc_score(y_test_true, y_test_pred_eval))\n",
        "        cost_history.append(current_cost)\n",
        "    else:\n",
        "        auc_history.append(0.5)\n",
        "        cost_history.append(current_cost)\n",
        "\n",
        "    print(f\"Starting {strategy_type} experiment. Initial Labeled: {y_L.shape[0]}, Initial AUC: {auc_history[-1]:.4f}\")\n",
        "\n",
        "    while current_cost < budget_seconds and len(U_indices) > 0:\n",
        "        if strategy_type == 'dynamic':\n",
        "            selected_idx_in_U_pool_current, selected_k_size = select_subinstance(\n",
        "                main_classifier, neutrality_model, k_options=k_options_dynamic,\n",
        "                utility_func=utility_func, X_test_full_text=X_test_full_text, U_indices=U_indices\n",
        "            )\n",
        "            if selected_idx_in_U_pool_current == -1:\n",
        "                print(\"No more instances to query in dynamic AAL.\")\n",
        "                break\n",
        "\n",
        "            actual_X_test_idx_for_query = U_indices[selected_idx_in_U_pool_current]\n",
        "            X_query_full_text = X_test_full_text.iloc[actual_X_test_idx_for_query]\n",
        "\n",
        "            if selected_k_size == -1:\n",
        "                X_query_subinstance_text = X_query_full_text\n",
        "            else:\n",
        "                X_query_subinstance_text = ' '.join(X_query_full_text.split()[:selected_k_size])\n",
        "\n",
        "            # Vectorize the subinstance text before passing to the oracle answer function\n",
        "            x_sub_bow_oracle = cv.transform([X_query_subinstance_text])\n",
        "            oracle_label = answer(oracle_model, x_sub_bow_oracle)\n",
        "\n",
        "            query_cost = COST_PER_K_WORDS.get(selected_k_size, 15)\n",
        "\n",
        "            U_indices.pop(selected_idx_in_U_pool_current)\n",
        "\n",
        "        else: # Static AAL or Traditional AL\n",
        "            selected_idx_in_U_pool_current, _ = select_subinstance(\n",
        "                main_classifier, oracle_model, k_options=None, utility_func=utility_func,\n",
        "                X_test_full_text=X_test_full_text, U_indices=U_indices\n",
        "            )\n",
        "\n",
        "            if selected_idx_in_U_pool_current == -1:\n",
        "                print(f\"No more instances to query in {strategy_type}.\")\n",
        "                break\n",
        "\n",
        "            actual_X_test_idx_for_query = U_indices[selected_idx_in_U_pool_current]\n",
        "            X_query_full_text = X_test_full_text.iloc[actual_X_test_idx_for_query]\n",
        "\n",
        "            if strategy_type == 'static_aal':\n",
        "                X_query_subinstance_text = ' '.join(X_query_full_text.split()[:k_fixed])\n",
        "                # Vectorize the subinstance text before passing to the oracle answer function\n",
        "                x_sub_bow_oracle = cv.transform([X_query_subinstance_text])\n",
        "                oracle_label = answer(oracle_model, x_sub_bow_oracle)\n",
        "                query_cost = COST_PER_K_WORDS.get(k_fixed, 15)\n",
        "            else: # Traditional AL\n",
        "                # For Traditional AL, we query the full instance and assume the oracle always provides a label.\n",
        "                # Vectorize the full instance text before passing to the oracle answer function\n",
        "                x_full_bow_oracle = cv.transform([X_query_full_text])\n",
        "                oracle_label = answer(oracle_model, x_full_bow_oracle) # Traditional AL assumes oracle always answers\n",
        "                query_cost = COST_PER_K_WORDS.get(-1, 15)\n",
        "\n",
        "            U_indices.pop(selected_idx_in_U_pool_current)\n",
        "\n",
        "        current_cost += query_cost\n",
        "\n",
        "        if oracle_label != -1 or strategy_type == 'traditional_al':\n",
        "            X_queried_full_bow = cv.transform([X_query_full_text]) # Gunakan cv global untuk main classifier's training\n",
        "\n",
        "            from scipy.sparse import vstack\n",
        "            if L_bow.shape[0] == 0:\n",
        "                L_bow = X_queried_full_bow\n",
        "            else:\n",
        "                L_bow = vstack([L_bow, X_queried_full_bow])\n",
        "\n",
        "            y_L = np.concatenate((y_L, [oracle_label]))\n",
        "\n",
        "            if L_bow.shape[0] > 0:\n",
        "                main_classifier.fit(L_bow, y_L)\n",
        "\n",
        "            X_test_bow_eval = cv.transform(X_test_full_text)\n",
        "            y_test_pred_eval = main_classifier.predict_proba(X_test_bow_eval)[:, 1]\n",
        "            auc_history.append(roc_auc_score(y_test_true, y_test_pred_eval))\n",
        "            cost_history.append(current_cost)\n",
        "        else:\n",
        "            auc_history.append(auc_history[-1])\n",
        "            cost_history.append(current_cost)\n",
        "\n",
        "        print(f\"  Cost: {current_cost:.2f}, Labeled: {y_L.shape[0]}, AUC: {auc_history[-1]:.4f}\")\n",
        "\n",
        "    print(f\"{strategy_type} experiment finished. Total Labeled: {y_L.shape[0]}, Final AUC: {auc_history[-1]:.4f}\")\n",
        "    return np.array(cost_history), np.array(auc_history)"
      ],
      "metadata": {
        "colab": {
          "base_uri": "https://localhost:8080/"
        },
        "id": "BaYoLh-SdZ_U",
        "outputId": "528179cf-da95-476f-8c04-fe2cfa7164d1"
      },
      "execution_count": 7,
      "outputs": [
        {
          "output_type": "stream",
          "name": "stdout",
          "text": [
            "Step 5: Mendefinisikan fungsi inti untuk eksperimen Active Learning.\n"
          ]
        }
      ]
    },
    {
      "cell_type": "code",
      "source": [
        "# @title Step 6: Menyiapkan Data dan Menjalankan Eksperimen Active Learning\n",
        "print(\"Step 6: Menyiapkan data dan menjalankan eksperimen Active Learning.\")\n",
        "\n",
        "# Siapkan data untuk eksperimen AL (menggunakan df2)\n",
        "sampled_data_al = df2.sample(n=2400, random_state=14)\n",
        "y_al = sampled_data_al['label']\n",
        "encoder_al = LabelEncoder()\n",
        "y_al = encoder_al.fit_transform(y_al)\n",
        "\n",
        "# Pisahkan data ini menjadi set pelatihan awal (labeled) dan set tidak berlabel (unlabeled pool)\n",
        "X_train_al_text, X_test_al_text, y_train_al, y_test_al = train_test_split(\n",
        "    sampled_data_al['tweet'], y_al, test_size=0.5, random_state=1\n",
        ")\n",
        "\n",
        "# Vectorize X_train_al_text untuk data berlabel awal\n",
        "# Penting: cv (global) sudah di-fit di Step 2. Sekarang hanya perlu transform.\n",
        "# cv.fit(X_train_al_text) # REMOVED: Avoid refitting cv\n",
        "X_train_al_bow = cv.transform(X_train_al_text) # Transform ke sparse matrix\n",
        "print(f\"Data pelatihan awal untuk AL di-vectorize. Bentuk BOW: {X_train_al_bow.shape}\")\n",
        "\n",
        "budget = 500 # 50 menit dalam detik (50 * 60 = 3000)\n",
        "\n",
        "print(\"\\n--- Menjalankan Eksperimen ---\")\n",
        "\n",
        "# 1. Static Anytime Active Learning (k=10, Uncertainty)\n",
        "print(\"\\n--- Running Static AAL (k=10, Unc) ---\")\n",
        "cost_static_k10_unc, auc_static_k10_unc = run_active_learning_experiment(\n",
        "    X_train_al_bow, y_train_al, X_test_al_text, y_test_al,\n",
        "    oracle, neutrality_classifier, budget,\n",
        "    strategy_type='static_aal', k_fixed=10, utility_func='uncertainty'\n",
        ")\n",
        "\n",
        "# 2. Static Anytime Active Learning (k=25, Uncertainty)\n",
        "print(\"\\n--- Running Static AAL (k=25, Unc) ---\")\n",
        "cost_static_k25_unc, auc_static_k25_unc = run_active_learning_experiment(\n",
        "    X_train_al_bow, y_train_al, X_test_al_text, y_test_al,\n",
        "    oracle, neutrality_classifier, budget,\n",
        "    strategy_type='static_aal', k_fixed=25, utility_func='uncertainty'\n",
        ")\n",
        "\n",
        "# 3. Static Anytime Active Learning (k=100, Uncertainty)\n",
        "print(\"\\n--- Running Static AAL (k=100, Unc) ---\")\n",
        "cost_static_k100_unc, auc_static_k100_unc = run_active_learning_experiment(\n",
        "    X_train_al_bow, y_train_al, X_test_al_text, y_test_al,\n",
        "    oracle, neutrality_classifier, budget,\n",
        "    strategy_type='static_aal', k_fixed=100, utility_func='uncertainty'\n",
        ")\n",
        "\n",
        "# 4. Traditional Active Learning (dokumen penuh, tanpa pemodelan netralitas)\n",
        "print(\"\\n--- Running Traditional AL (Unc) ---\")\n",
        "cost_traditional_al, auc_traditional_al = run_active_learning_experiment(\n",
        "    X_train_al_bow, y_train_al, X_test_al_text, y_test_al,\n",
        "    oracle, neutrality_classifier, budget, # neutrality_model tidak digunakan di Traditional AL\n",
        "    strategy_type='traditional_al', k_fixed=-1, utility_func='uncertainty' # k_fixed=-1 mengindikasikan dokumen penuh\n",
        ")\n",
        "\n",
        "# 5. Dynamic Anytime Active Learning (Uncertainty)\n",
        "print(\"\\n--- Running Dynamic AAL (Unc) ---\")\n",
        "k_options_dynamic_aal = [10, 25, 50, 75, 100, -1] # -1 untuk dokumen penuh\n",
        "cost_dynamic_unc, auc_dynamic_unc = run_active_learning_experiment(\n",
        "    X_train_al_bow, y_train_al, X_test_al_text, y_test_al,\n",
        "    oracle, neutrality_classifier, budget,\n",
        "    strategy_type='dynamic', k_options_dynamic=k_options_dynamic_aal, utility_func='uncertainty'\n",
        ")\n",
        "\n",
        "# 6. Dynamic Anytime Active Learning (Constant Utility - hanya memaksimalkan probabilitas non-netral)\n",
        "print(\"\\n--- Running Dynamic AAL (Const) ---\")\n",
        "cost_dynamic_const, auc_dynamic_const = run_active_learning_experiment(\n",
        "    X_train_al_bow, y_train_al, X_test_al_text, y_test_al,\n",
        "    oracle, neutrality_classifier, budget,\n",
        "    strategy_type='dynamic', k_options_dynamic=k_options_dynamic_aal, utility_func='constant'\n",
        ")\n",
        "\n",
        "print(\"\\n--- Semua eksperimen selesai ---\")"
      ],
      "metadata": {
        "colab": {
          "base_uri": "https://localhost:8080/"
        },
        "id": "9Jy_WaCKddLL",
        "outputId": "18627f07-88ef-4844-a8bc-859f1da26728"
      },
      "execution_count": 9,
      "outputs": [
        {
          "output_type": "stream",
          "name": "stdout",
          "text": [
            "Step 6: Menyiapkan data dan menjalankan eksperimen Active Learning.\n",
            "Data pelatihan awal untuk AL di-vectorize. Bentuk BOW: (1200, 110087)\n",
            "\n",
            "--- Menjalankan Eksperimen ---\n",
            "\n",
            "--- Running Static AAL (k=10, Unc) ---\n"
          ]
        },
        {
          "output_type": "stream",
          "name": "stderr",
          "text": [
            "/usr/local/lib/python3.11/dist-packages/sklearn/linear_model/_logistic.py:1256: FutureWarning: 'multi_class' was deprecated in version 1.5 and will be removed in 1.7. Use OneVsRestClassifier(LogisticRegression(..)) instead. Leave it to its default value to avoid this warning.\n",
            "  warnings.warn(\n"
          ]
        },
        {
          "output_type": "stream",
          "name": "stdout",
          "text": [
            "Starting static_aal experiment. Initial Labeled: 1200, Initial AUC: 0.9285\n",
            "  Cost: 5.70, Labeled: 1200, AUC: 0.9285\n",
            "  Cost: 11.40, Labeled: 1200, AUC: 0.9285\n",
            "  Cost: 17.10, Labeled: 1200, AUC: 0.9285\n",
            "  Cost: 22.80, Labeled: 1200, AUC: 0.9285\n",
            "  Cost: 28.50, Labeled: 1200, AUC: 0.9285\n",
            "  Cost: 34.20, Labeled: 1200, AUC: 0.9285\n",
            "  Cost: 39.90, Labeled: 1200, AUC: 0.9285\n",
            "  Cost: 45.60, Labeled: 1200, AUC: 0.9285\n",
            "  Cost: 51.30, Labeled: 1200, AUC: 0.9285\n",
            "  Cost: 57.00, Labeled: 1200, AUC: 0.9285\n",
            "  Cost: 62.70, Labeled: 1200, AUC: 0.9285\n",
            "  Cost: 68.40, Labeled: 1200, AUC: 0.9285\n",
            "  Cost: 74.10, Labeled: 1200, AUC: 0.9285\n",
            "  Cost: 79.80, Labeled: 1200, AUC: 0.9285\n",
            "  Cost: 85.50, Labeled: 1200, AUC: 0.9285\n",
            "  Cost: 91.20, Labeled: 1200, AUC: 0.9285\n",
            "  Cost: 96.90, Labeled: 1200, AUC: 0.9285\n",
            "  Cost: 102.60, Labeled: 1200, AUC: 0.9285\n",
            "  Cost: 108.30, Labeled: 1200, AUC: 0.9285\n",
            "  Cost: 114.00, Labeled: 1200, AUC: 0.9285\n",
            "  Cost: 119.70, Labeled: 1200, AUC: 0.9285\n",
            "  Cost: 125.40, Labeled: 1200, AUC: 0.9285\n",
            "  Cost: 131.10, Labeled: 1200, AUC: 0.9285\n",
            "  Cost: 136.80, Labeled: 1200, AUC: 0.9285\n",
            "  Cost: 142.50, Labeled: 1200, AUC: 0.9285\n",
            "  Cost: 148.20, Labeled: 1200, AUC: 0.9285\n",
            "  Cost: 153.90, Labeled: 1200, AUC: 0.9285\n",
            "  Cost: 159.60, Labeled: 1200, AUC: 0.9285\n",
            "  Cost: 165.30, Labeled: 1200, AUC: 0.9285\n",
            "  Cost: 171.00, Labeled: 1200, AUC: 0.9285\n",
            "  Cost: 176.70, Labeled: 1200, AUC: 0.9285\n",
            "  Cost: 182.40, Labeled: 1200, AUC: 0.9285\n",
            "  Cost: 188.10, Labeled: 1200, AUC: 0.9285\n",
            "  Cost: 193.80, Labeled: 1200, AUC: 0.9285\n",
            "  Cost: 199.50, Labeled: 1200, AUC: 0.9285\n",
            "  Cost: 205.20, Labeled: 1200, AUC: 0.9285\n",
            "  Cost: 210.90, Labeled: 1200, AUC: 0.9285\n",
            "  Cost: 216.60, Labeled: 1200, AUC: 0.9285\n",
            "  Cost: 222.30, Labeled: 1200, AUC: 0.9285\n",
            "  Cost: 228.00, Labeled: 1200, AUC: 0.9285\n",
            "  Cost: 233.70, Labeled: 1200, AUC: 0.9285\n",
            "  Cost: 239.40, Labeled: 1200, AUC: 0.9285\n",
            "  Cost: 245.10, Labeled: 1200, AUC: 0.9285\n",
            "  Cost: 250.80, Labeled: 1200, AUC: 0.9285\n",
            "  Cost: 256.50, Labeled: 1200, AUC: 0.9285\n",
            "  Cost: 262.20, Labeled: 1200, AUC: 0.9285\n",
            "  Cost: 267.90, Labeled: 1200, AUC: 0.9285\n",
            "  Cost: 273.60, Labeled: 1200, AUC: 0.9285\n",
            "  Cost: 279.30, Labeled: 1200, AUC: 0.9285\n",
            "  Cost: 285.00, Labeled: 1200, AUC: 0.9285\n",
            "  Cost: 290.70, Labeled: 1200, AUC: 0.9285\n",
            "  Cost: 296.40, Labeled: 1200, AUC: 0.9285\n",
            "  Cost: 302.10, Labeled: 1200, AUC: 0.9285\n",
            "  Cost: 307.80, Labeled: 1200, AUC: 0.9285\n",
            "  Cost: 313.50, Labeled: 1200, AUC: 0.9285\n",
            "  Cost: 319.20, Labeled: 1200, AUC: 0.9285\n",
            "  Cost: 324.90, Labeled: 1200, AUC: 0.9285\n",
            "  Cost: 330.60, Labeled: 1200, AUC: 0.9285\n",
            "  Cost: 336.30, Labeled: 1200, AUC: 0.9285\n",
            "  Cost: 342.00, Labeled: 1200, AUC: 0.9285\n",
            "  Cost: 347.70, Labeled: 1200, AUC: 0.9285\n",
            "  Cost: 353.40, Labeled: 1200, AUC: 0.9285\n",
            "  Cost: 359.10, Labeled: 1200, AUC: 0.9285\n",
            "  Cost: 364.80, Labeled: 1200, AUC: 0.9285\n",
            "  Cost: 370.50, Labeled: 1200, AUC: 0.9285\n",
            "  Cost: 376.20, Labeled: 1200, AUC: 0.9285\n",
            "  Cost: 381.90, Labeled: 1201, AUC: 0.9286\n"
          ]
        },
        {
          "output_type": "stream",
          "name": "stderr",
          "text": [
            "/usr/local/lib/python3.11/dist-packages/sklearn/linear_model/_logistic.py:1256: FutureWarning: 'multi_class' was deprecated in version 1.5 and will be removed in 1.7. Use OneVsRestClassifier(LogisticRegression(..)) instead. Leave it to its default value to avoid this warning.\n",
            "  warnings.warn(\n"
          ]
        },
        {
          "output_type": "stream",
          "name": "stdout",
          "text": [
            "  Cost: 387.60, Labeled: 1201, AUC: 0.9286\n",
            "  Cost: 393.30, Labeled: 1202, AUC: 0.9287\n"
          ]
        },
        {
          "output_type": "stream",
          "name": "stderr",
          "text": [
            "/usr/local/lib/python3.11/dist-packages/sklearn/linear_model/_logistic.py:1256: FutureWarning: 'multi_class' was deprecated in version 1.5 and will be removed in 1.7. Use OneVsRestClassifier(LogisticRegression(..)) instead. Leave it to its default value to avoid this warning.\n",
            "  warnings.warn(\n"
          ]
        },
        {
          "output_type": "stream",
          "name": "stdout",
          "text": [
            "  Cost: 399.00, Labeled: 1202, AUC: 0.9287\n",
            "  Cost: 404.70, Labeled: 1202, AUC: 0.9287\n",
            "  Cost: 410.40, Labeled: 1202, AUC: 0.9287\n",
            "  Cost: 416.10, Labeled: 1202, AUC: 0.9287\n",
            "  Cost: 421.80, Labeled: 1202, AUC: 0.9287\n",
            "  Cost: 427.50, Labeled: 1202, AUC: 0.9287\n",
            "  Cost: 433.20, Labeled: 1202, AUC: 0.9287\n",
            "  Cost: 438.90, Labeled: 1202, AUC: 0.9287\n",
            "  Cost: 444.60, Labeled: 1202, AUC: 0.9287\n",
            "  Cost: 450.30, Labeled: 1202, AUC: 0.9287\n",
            "  Cost: 456.00, Labeled: 1202, AUC: 0.9287\n",
            "  Cost: 461.70, Labeled: 1202, AUC: 0.9287\n",
            "  Cost: 467.40, Labeled: 1202, AUC: 0.9287\n",
            "  Cost: 473.10, Labeled: 1202, AUC: 0.9287\n",
            "  Cost: 478.80, Labeled: 1202, AUC: 0.9287\n",
            "  Cost: 484.50, Labeled: 1202, AUC: 0.9287\n",
            "  Cost: 490.20, Labeled: 1202, AUC: 0.9287\n",
            "  Cost: 495.90, Labeled: 1202, AUC: 0.9287\n",
            "  Cost: 501.60, Labeled: 1202, AUC: 0.9287\n",
            "static_aal experiment finished. Total Labeled: 1202, Final AUC: 0.9287\n",
            "\n",
            "--- Running Static AAL (k=25, Unc) ---\n",
            "Starting static_aal experiment. Initial Labeled: 1200, Initial AUC: 0.9285\n"
          ]
        },
        {
          "output_type": "stream",
          "name": "stderr",
          "text": [
            "/usr/local/lib/python3.11/dist-packages/sklearn/linear_model/_logistic.py:1256: FutureWarning: 'multi_class' was deprecated in version 1.5 and will be removed in 1.7. Use OneVsRestClassifier(LogisticRegression(..)) instead. Leave it to its default value to avoid this warning.\n",
            "  warnings.warn(\n"
          ]
        },
        {
          "output_type": "stream",
          "name": "stdout",
          "text": [
            "  Cost: 8.20, Labeled: 1200, AUC: 0.9285\n",
            "  Cost: 16.40, Labeled: 1200, AUC: 0.9285\n",
            "  Cost: 24.60, Labeled: 1200, AUC: 0.9285\n",
            "  Cost: 32.80, Labeled: 1200, AUC: 0.9285\n",
            "  Cost: 41.00, Labeled: 1200, AUC: 0.9285\n",
            "  Cost: 49.20, Labeled: 1200, AUC: 0.9285\n",
            "  Cost: 57.40, Labeled: 1200, AUC: 0.9285\n",
            "  Cost: 65.60, Labeled: 1200, AUC: 0.9285\n",
            "  Cost: 73.80, Labeled: 1200, AUC: 0.9285\n",
            "  Cost: 82.00, Labeled: 1200, AUC: 0.9285\n",
            "  Cost: 90.20, Labeled: 1200, AUC: 0.9285\n",
            "  Cost: 98.40, Labeled: 1200, AUC: 0.9285\n",
            "  Cost: 106.60, Labeled: 1200, AUC: 0.9285\n",
            "  Cost: 114.80, Labeled: 1200, AUC: 0.9285\n",
            "  Cost: 123.00, Labeled: 1200, AUC: 0.9285\n",
            "  Cost: 131.20, Labeled: 1200, AUC: 0.9285\n",
            "  Cost: 139.40, Labeled: 1200, AUC: 0.9285\n",
            "  Cost: 147.60, Labeled: 1200, AUC: 0.9285\n",
            "  Cost: 155.80, Labeled: 1200, AUC: 0.9285\n",
            "  Cost: 164.00, Labeled: 1200, AUC: 0.9285\n"
          ]
        },
        {
          "output_type": "stream",
          "name": "stderr",
          "text": [
            "/usr/local/lib/python3.11/dist-packages/sklearn/linear_model/_logistic.py:1256: FutureWarning: 'multi_class' was deprecated in version 1.5 and will be removed in 1.7. Use OneVsRestClassifier(LogisticRegression(..)) instead. Leave it to its default value to avoid this warning.\n",
            "  warnings.warn(\n"
          ]
        },
        {
          "output_type": "stream",
          "name": "stdout",
          "text": [
            "  Cost: 172.20, Labeled: 1201, AUC: 0.9288\n",
            "  Cost: 180.40, Labeled: 1201, AUC: 0.9288\n",
            "  Cost: 188.60, Labeled: 1201, AUC: 0.9288\n",
            "  Cost: 196.80, Labeled: 1201, AUC: 0.9288\n",
            "  Cost: 205.00, Labeled: 1201, AUC: 0.9288\n"
          ]
        },
        {
          "output_type": "stream",
          "name": "stderr",
          "text": [
            "/usr/local/lib/python3.11/dist-packages/sklearn/linear_model/_logistic.py:1256: FutureWarning: 'multi_class' was deprecated in version 1.5 and will be removed in 1.7. Use OneVsRestClassifier(LogisticRegression(..)) instead. Leave it to its default value to avoid this warning.\n",
            "  warnings.warn(\n"
          ]
        },
        {
          "output_type": "stream",
          "name": "stdout",
          "text": [
            "  Cost: 213.20, Labeled: 1202, AUC: 0.9289\n",
            "  Cost: 221.40, Labeled: 1202, AUC: 0.9289\n"
          ]
        },
        {
          "output_type": "stream",
          "name": "stderr",
          "text": [
            "/usr/local/lib/python3.11/dist-packages/sklearn/linear_model/_logistic.py:1256: FutureWarning: 'multi_class' was deprecated in version 1.5 and will be removed in 1.7. Use OneVsRestClassifier(LogisticRegression(..)) instead. Leave it to its default value to avoid this warning.\n",
            "  warnings.warn(\n"
          ]
        },
        {
          "output_type": "stream",
          "name": "stdout",
          "text": [
            "  Cost: 229.60, Labeled: 1203, AUC: 0.9291\n",
            "  Cost: 237.80, Labeled: 1203, AUC: 0.9291\n"
          ]
        },
        {
          "output_type": "stream",
          "name": "stderr",
          "text": [
            "/usr/local/lib/python3.11/dist-packages/sklearn/linear_model/_logistic.py:1256: FutureWarning: 'multi_class' was deprecated in version 1.5 and will be removed in 1.7. Use OneVsRestClassifier(LogisticRegression(..)) instead. Leave it to its default value to avoid this warning.\n",
            "  warnings.warn(\n",
            "/usr/local/lib/python3.11/dist-packages/sklearn/linear_model/_logistic.py:1256: FutureWarning: 'multi_class' was deprecated in version 1.5 and will be removed in 1.7. Use OneVsRestClassifier(LogisticRegression(..)) instead. Leave it to its default value to avoid this warning.\n",
            "  warnings.warn(\n"
          ]
        },
        {
          "output_type": "stream",
          "name": "stdout",
          "text": [
            "  Cost: 246.00, Labeled: 1204, AUC: 0.9289\n",
            "  Cost: 254.20, Labeled: 1205, AUC: 0.9292\n",
            "  Cost: 262.40, Labeled: 1205, AUC: 0.9292\n",
            "  Cost: 270.60, Labeled: 1205, AUC: 0.9292\n",
            "  Cost: 278.80, Labeled: 1205, AUC: 0.9292\n",
            "  Cost: 287.00, Labeled: 1205, AUC: 0.9292\n",
            "  Cost: 295.20, Labeled: 1205, AUC: 0.9292\n",
            "  Cost: 303.40, Labeled: 1205, AUC: 0.9292\n",
            "  Cost: 311.60, Labeled: 1205, AUC: 0.9292\n",
            "  Cost: 319.80, Labeled: 1205, AUC: 0.9292\n",
            "  Cost: 328.00, Labeled: 1205, AUC: 0.9292\n",
            "  Cost: 336.20, Labeled: 1205, AUC: 0.9292\n",
            "  Cost: 344.40, Labeled: 1205, AUC: 0.9292\n",
            "  Cost: 352.60, Labeled: 1205, AUC: 0.9292\n",
            "  Cost: 360.80, Labeled: 1205, AUC: 0.9292\n",
            "  Cost: 369.00, Labeled: 1205, AUC: 0.9292\n",
            "  Cost: 377.20, Labeled: 1205, AUC: 0.9292\n",
            "  Cost: 385.40, Labeled: 1205, AUC: 0.9292\n",
            "  Cost: 393.60, Labeled: 1205, AUC: 0.9292\n",
            "  Cost: 401.80, Labeled: 1205, AUC: 0.9292\n",
            "  Cost: 410.00, Labeled: 1205, AUC: 0.9292\n",
            "  Cost: 418.20, Labeled: 1205, AUC: 0.9292\n",
            "  Cost: 426.40, Labeled: 1205, AUC: 0.9292\n",
            "  Cost: 434.60, Labeled: 1205, AUC: 0.9292\n",
            "  Cost: 442.80, Labeled: 1205, AUC: 0.9292\n",
            "  Cost: 451.00, Labeled: 1205, AUC: 0.9292\n",
            "  Cost: 459.20, Labeled: 1205, AUC: 0.9292\n",
            "  Cost: 467.40, Labeled: 1205, AUC: 0.9292\n",
            "  Cost: 475.60, Labeled: 1205, AUC: 0.9292\n",
            "  Cost: 483.80, Labeled: 1205, AUC: 0.9292\n",
            "  Cost: 492.00, Labeled: 1205, AUC: 0.9292\n",
            "  Cost: 500.20, Labeled: 1205, AUC: 0.9292\n",
            "static_aal experiment finished. Total Labeled: 1205, Final AUC: 0.9292\n",
            "\n",
            "--- Running Static AAL (k=100, Unc) ---\n"
          ]
        },
        {
          "output_type": "stream",
          "name": "stderr",
          "text": [
            "/usr/local/lib/python3.11/dist-packages/sklearn/linear_model/_logistic.py:1256: FutureWarning: 'multi_class' was deprecated in version 1.5 and will be removed in 1.7. Use OneVsRestClassifier(LogisticRegression(..)) instead. Leave it to its default value to avoid this warning.\n",
            "  warnings.warn(\n"
          ]
        },
        {
          "output_type": "stream",
          "name": "stdout",
          "text": [
            "Starting static_aal experiment. Initial Labeled: 1200, Initial AUC: 0.9285\n",
            "  Cost: 16.70, Labeled: 1200, AUC: 0.9285\n",
            "  Cost: 33.40, Labeled: 1200, AUC: 0.9285\n",
            "  Cost: 50.10, Labeled: 1200, AUC: 0.9285\n",
            "  Cost: 66.80, Labeled: 1200, AUC: 0.9285\n",
            "  Cost: 83.50, Labeled: 1200, AUC: 0.9285\n",
            "  Cost: 100.20, Labeled: 1200, AUC: 0.9285\n",
            "  Cost: 116.90, Labeled: 1200, AUC: 0.9285\n",
            "  Cost: 133.60, Labeled: 1200, AUC: 0.9285\n",
            "  Cost: 150.30, Labeled: 1200, AUC: 0.9285\n",
            "  Cost: 167.00, Labeled: 1200, AUC: 0.9285\n",
            "  Cost: 183.70, Labeled: 1200, AUC: 0.9285\n",
            "  Cost: 200.40, Labeled: 1200, AUC: 0.9285\n",
            "  Cost: 217.10, Labeled: 1200, AUC: 0.9285\n",
            "  Cost: 233.80, Labeled: 1200, AUC: 0.9285\n",
            "  Cost: 250.50, Labeled: 1200, AUC: 0.9285\n",
            "  Cost: 267.20, Labeled: 1200, AUC: 0.9285\n",
            "  Cost: 283.90, Labeled: 1200, AUC: 0.9285\n",
            "  Cost: 300.60, Labeled: 1200, AUC: 0.9285\n",
            "  Cost: 317.30, Labeled: 1200, AUC: 0.9285\n",
            "  Cost: 334.00, Labeled: 1200, AUC: 0.9285\n"
          ]
        },
        {
          "output_type": "stream",
          "name": "stderr",
          "text": [
            "/usr/local/lib/python3.11/dist-packages/sklearn/linear_model/_logistic.py:1256: FutureWarning: 'multi_class' was deprecated in version 1.5 and will be removed in 1.7. Use OneVsRestClassifier(LogisticRegression(..)) instead. Leave it to its default value to avoid this warning.\n",
            "  warnings.warn(\n"
          ]
        },
        {
          "output_type": "stream",
          "name": "stdout",
          "text": [
            "  Cost: 350.70, Labeled: 1201, AUC: 0.9288\n",
            "  Cost: 367.40, Labeled: 1201, AUC: 0.9288\n",
            "  Cost: 384.10, Labeled: 1201, AUC: 0.9288\n",
            "  Cost: 400.80, Labeled: 1201, AUC: 0.9288\n",
            "  Cost: 417.50, Labeled: 1201, AUC: 0.9288\n"
          ]
        },
        {
          "output_type": "stream",
          "name": "stderr",
          "text": [
            "/usr/local/lib/python3.11/dist-packages/sklearn/linear_model/_logistic.py:1256: FutureWarning: 'multi_class' was deprecated in version 1.5 and will be removed in 1.7. Use OneVsRestClassifier(LogisticRegression(..)) instead. Leave it to its default value to avoid this warning.\n",
            "  warnings.warn(\n"
          ]
        },
        {
          "output_type": "stream",
          "name": "stdout",
          "text": [
            "  Cost: 434.20, Labeled: 1202, AUC: 0.9289\n",
            "  Cost: 450.90, Labeled: 1202, AUC: 0.9289\n"
          ]
        },
        {
          "output_type": "stream",
          "name": "stderr",
          "text": [
            "/usr/local/lib/python3.11/dist-packages/sklearn/linear_model/_logistic.py:1256: FutureWarning: 'multi_class' was deprecated in version 1.5 and will be removed in 1.7. Use OneVsRestClassifier(LogisticRegression(..)) instead. Leave it to its default value to avoid this warning.\n",
            "  warnings.warn(\n"
          ]
        },
        {
          "output_type": "stream",
          "name": "stdout",
          "text": [
            "  Cost: 467.60, Labeled: 1203, AUC: 0.9291\n",
            "  Cost: 484.30, Labeled: 1203, AUC: 0.9291\n"
          ]
        },
        {
          "output_type": "stream",
          "name": "stderr",
          "text": [
            "/usr/local/lib/python3.11/dist-packages/sklearn/linear_model/_logistic.py:1256: FutureWarning: 'multi_class' was deprecated in version 1.5 and will be removed in 1.7. Use OneVsRestClassifier(LogisticRegression(..)) instead. Leave it to its default value to avoid this warning.\n",
            "  warnings.warn(\n"
          ]
        },
        {
          "output_type": "stream",
          "name": "stdout",
          "text": [
            "  Cost: 501.00, Labeled: 1204, AUC: 0.9289\n",
            "static_aal experiment finished. Total Labeled: 1204, Final AUC: 0.9289\n",
            "\n",
            "--- Running Traditional AL (Unc) ---\n",
            "Starting traditional_al experiment. Initial Labeled: 1200, Initial AUC: 0.9285\n"
          ]
        },
        {
          "output_type": "stream",
          "name": "stderr",
          "text": [
            "/usr/local/lib/python3.11/dist-packages/sklearn/linear_model/_logistic.py:1256: FutureWarning: 'multi_class' was deprecated in version 1.5 and will be removed in 1.7. Use OneVsRestClassifier(LogisticRegression(..)) instead. Leave it to its default value to avoid this warning.\n",
            "  warnings.warn(\n",
            "/usr/local/lib/python3.11/dist-packages/sklearn/linear_model/_logistic.py:1256: FutureWarning: 'multi_class' was deprecated in version 1.5 and will be removed in 1.7. Use OneVsRestClassifier(LogisticRegression(..)) instead. Leave it to its default value to avoid this warning.\n",
            "  warnings.warn(\n"
          ]
        },
        {
          "output_type": "stream",
          "name": "stdout",
          "text": [
            "  Cost: 15.00, Labeled: 1201, AUC: 0.0759\n"
          ]
        },
        {
          "output_type": "stream",
          "name": "stderr",
          "text": [
            "/usr/local/lib/python3.11/dist-packages/sklearn/linear_model/_logistic.py:1256: FutureWarning: 'multi_class' was deprecated in version 1.5 and will be removed in 1.7. Use OneVsRestClassifier(LogisticRegression(..)) instead. Leave it to its default value to avoid this warning.\n",
            "  warnings.warn(\n"
          ]
        },
        {
          "output_type": "stream",
          "name": "stdout",
          "text": [
            "  Cost: 30.00, Labeled: 1202, AUC: 0.0759\n"
          ]
        },
        {
          "output_type": "stream",
          "name": "stderr",
          "text": [
            "/usr/local/lib/python3.11/dist-packages/sklearn/linear_model/_logistic.py:1256: FutureWarning: 'multi_class' was deprecated in version 1.5 and will be removed in 1.7. Use OneVsRestClassifier(LogisticRegression(..)) instead. Leave it to its default value to avoid this warning.\n",
            "  warnings.warn(\n"
          ]
        },
        {
          "output_type": "stream",
          "name": "stdout",
          "text": [
            "  Cost: 45.00, Labeled: 1203, AUC: 0.0759\n"
          ]
        },
        {
          "output_type": "stream",
          "name": "stderr",
          "text": [
            "/usr/local/lib/python3.11/dist-packages/sklearn/linear_model/_logistic.py:1256: FutureWarning: 'multi_class' was deprecated in version 1.5 and will be removed in 1.7. Use OneVsRestClassifier(LogisticRegression(..)) instead. Leave it to its default value to avoid this warning.\n",
            "  warnings.warn(\n"
          ]
        },
        {
          "output_type": "stream",
          "name": "stdout",
          "text": [
            "  Cost: 60.00, Labeled: 1204, AUC: 0.0759\n"
          ]
        },
        {
          "output_type": "stream",
          "name": "stderr",
          "text": [
            "/usr/local/lib/python3.11/dist-packages/sklearn/linear_model/_logistic.py:1256: FutureWarning: 'multi_class' was deprecated in version 1.5 and will be removed in 1.7. Use OneVsRestClassifier(LogisticRegression(..)) instead. Leave it to its default value to avoid this warning.\n",
            "  warnings.warn(\n"
          ]
        },
        {
          "output_type": "stream",
          "name": "stdout",
          "text": [
            "  Cost: 75.00, Labeled: 1205, AUC: 0.0759\n"
          ]
        },
        {
          "output_type": "stream",
          "name": "stderr",
          "text": [
            "/usr/local/lib/python3.11/dist-packages/sklearn/linear_model/_logistic.py:1256: FutureWarning: 'multi_class' was deprecated in version 1.5 and will be removed in 1.7. Use OneVsRestClassifier(LogisticRegression(..)) instead. Leave it to its default value to avoid this warning.\n",
            "  warnings.warn(\n"
          ]
        },
        {
          "output_type": "stream",
          "name": "stdout",
          "text": [
            "  Cost: 90.00, Labeled: 1206, AUC: 0.0759\n",
            "  Cost: 105.00, Labeled: 1207, AUC: 0.0760\n"
          ]
        },
        {
          "output_type": "stream",
          "name": "stderr",
          "text": [
            "/usr/local/lib/python3.11/dist-packages/sklearn/linear_model/_logistic.py:1256: FutureWarning: 'multi_class' was deprecated in version 1.5 and will be removed in 1.7. Use OneVsRestClassifier(LogisticRegression(..)) instead. Leave it to its default value to avoid this warning.\n",
            "  warnings.warn(\n",
            "/usr/local/lib/python3.11/dist-packages/sklearn/linear_model/_logistic.py:1256: FutureWarning: 'multi_class' was deprecated in version 1.5 and will be removed in 1.7. Use OneVsRestClassifier(LogisticRegression(..)) instead. Leave it to its default value to avoid this warning.\n",
            "  warnings.warn(\n"
          ]
        },
        {
          "output_type": "stream",
          "name": "stdout",
          "text": [
            "  Cost: 120.00, Labeled: 1208, AUC: 0.0760\n"
          ]
        },
        {
          "output_type": "stream",
          "name": "stderr",
          "text": [
            "/usr/local/lib/python3.11/dist-packages/sklearn/linear_model/_logistic.py:1256: FutureWarning: 'multi_class' was deprecated in version 1.5 and will be removed in 1.7. Use OneVsRestClassifier(LogisticRegression(..)) instead. Leave it to its default value to avoid this warning.\n",
            "  warnings.warn(\n"
          ]
        },
        {
          "output_type": "stream",
          "name": "stdout",
          "text": [
            "  Cost: 135.00, Labeled: 1209, AUC: 0.0760\n"
          ]
        },
        {
          "output_type": "stream",
          "name": "stderr",
          "text": [
            "/usr/local/lib/python3.11/dist-packages/sklearn/linear_model/_logistic.py:1256: FutureWarning: 'multi_class' was deprecated in version 1.5 and will be removed in 1.7. Use OneVsRestClassifier(LogisticRegression(..)) instead. Leave it to its default value to avoid this warning.\n",
            "  warnings.warn(\n"
          ]
        },
        {
          "output_type": "stream",
          "name": "stdout",
          "text": [
            "  Cost: 150.00, Labeled: 1210, AUC: 0.0759\n"
          ]
        },
        {
          "output_type": "stream",
          "name": "stderr",
          "text": [
            "/usr/local/lib/python3.11/dist-packages/sklearn/linear_model/_logistic.py:1256: FutureWarning: 'multi_class' was deprecated in version 1.5 and will be removed in 1.7. Use OneVsRestClassifier(LogisticRegression(..)) instead. Leave it to its default value to avoid this warning.\n",
            "  warnings.warn(\n"
          ]
        },
        {
          "output_type": "stream",
          "name": "stdout",
          "text": [
            "  Cost: 165.00, Labeled: 1211, AUC: 0.0758\n"
          ]
        },
        {
          "output_type": "stream",
          "name": "stderr",
          "text": [
            "/usr/local/lib/python3.11/dist-packages/sklearn/linear_model/_logistic.py:1256: FutureWarning: 'multi_class' was deprecated in version 1.5 and will be removed in 1.7. Use OneVsRestClassifier(LogisticRegression(..)) instead. Leave it to its default value to avoid this warning.\n",
            "  warnings.warn(\n"
          ]
        },
        {
          "output_type": "stream",
          "name": "stdout",
          "text": [
            "  Cost: 180.00, Labeled: 1212, AUC: 0.0757\n"
          ]
        },
        {
          "output_type": "stream",
          "name": "stderr",
          "text": [
            "/usr/local/lib/python3.11/dist-packages/sklearn/linear_model/_logistic.py:1256: FutureWarning: 'multi_class' was deprecated in version 1.5 and will be removed in 1.7. Use OneVsRestClassifier(LogisticRegression(..)) instead. Leave it to its default value to avoid this warning.\n",
            "  warnings.warn(\n"
          ]
        },
        {
          "output_type": "stream",
          "name": "stdout",
          "text": [
            "  Cost: 195.00, Labeled: 1213, AUC: 0.0757\n"
          ]
        },
        {
          "output_type": "stream",
          "name": "stderr",
          "text": [
            "/usr/local/lib/python3.11/dist-packages/sklearn/linear_model/_logistic.py:1256: FutureWarning: 'multi_class' was deprecated in version 1.5 and will be removed in 1.7. Use OneVsRestClassifier(LogisticRegression(..)) instead. Leave it to its default value to avoid this warning.\n",
            "  warnings.warn(\n"
          ]
        },
        {
          "output_type": "stream",
          "name": "stdout",
          "text": [
            "  Cost: 210.00, Labeled: 1214, AUC: 0.0757\n"
          ]
        },
        {
          "output_type": "stream",
          "name": "stderr",
          "text": [
            "/usr/local/lib/python3.11/dist-packages/sklearn/linear_model/_logistic.py:1256: FutureWarning: 'multi_class' was deprecated in version 1.5 and will be removed in 1.7. Use OneVsRestClassifier(LogisticRegression(..)) instead. Leave it to its default value to avoid this warning.\n",
            "  warnings.warn(\n"
          ]
        },
        {
          "output_type": "stream",
          "name": "stdout",
          "text": [
            "  Cost: 225.00, Labeled: 1215, AUC: 0.0756\n"
          ]
        },
        {
          "output_type": "stream",
          "name": "stderr",
          "text": [
            "/usr/local/lib/python3.11/dist-packages/sklearn/linear_model/_logistic.py:1256: FutureWarning: 'multi_class' was deprecated in version 1.5 and will be removed in 1.7. Use OneVsRestClassifier(LogisticRegression(..)) instead. Leave it to its default value to avoid this warning.\n",
            "  warnings.warn(\n"
          ]
        },
        {
          "output_type": "stream",
          "name": "stdout",
          "text": [
            "  Cost: 240.00, Labeled: 1216, AUC: 0.0756\n",
            "  Cost: 255.00, Labeled: 1217, AUC: 0.0757\n"
          ]
        },
        {
          "output_type": "stream",
          "name": "stderr",
          "text": [
            "/usr/local/lib/python3.11/dist-packages/sklearn/linear_model/_logistic.py:1256: FutureWarning: 'multi_class' was deprecated in version 1.5 and will be removed in 1.7. Use OneVsRestClassifier(LogisticRegression(..)) instead. Leave it to its default value to avoid this warning.\n",
            "  warnings.warn(\n",
            "/usr/local/lib/python3.11/dist-packages/sklearn/linear_model/_logistic.py:1256: FutureWarning: 'multi_class' was deprecated in version 1.5 and will be removed in 1.7. Use OneVsRestClassifier(LogisticRegression(..)) instead. Leave it to its default value to avoid this warning.\n",
            "  warnings.warn(\n"
          ]
        },
        {
          "output_type": "stream",
          "name": "stdout",
          "text": [
            "  Cost: 270.00, Labeled: 1218, AUC: 0.0756\n"
          ]
        },
        {
          "output_type": "stream",
          "name": "stderr",
          "text": [
            "/usr/local/lib/python3.11/dist-packages/sklearn/linear_model/_logistic.py:1256: FutureWarning: 'multi_class' was deprecated in version 1.5 and will be removed in 1.7. Use OneVsRestClassifier(LogisticRegression(..)) instead. Leave it to its default value to avoid this warning.\n",
            "  warnings.warn(\n"
          ]
        },
        {
          "output_type": "stream",
          "name": "stdout",
          "text": [
            "  Cost: 285.00, Labeled: 1219, AUC: 0.0757\n"
          ]
        },
        {
          "output_type": "stream",
          "name": "stderr",
          "text": [
            "/usr/local/lib/python3.11/dist-packages/sklearn/linear_model/_logistic.py:1256: FutureWarning: 'multi_class' was deprecated in version 1.5 and will be removed in 1.7. Use OneVsRestClassifier(LogisticRegression(..)) instead. Leave it to its default value to avoid this warning.\n",
            "  warnings.warn(\n"
          ]
        },
        {
          "output_type": "stream",
          "name": "stdout",
          "text": [
            "  Cost: 300.00, Labeled: 1220, AUC: 0.0756\n"
          ]
        },
        {
          "output_type": "stream",
          "name": "stderr",
          "text": [
            "/usr/local/lib/python3.11/dist-packages/sklearn/linear_model/_logistic.py:1256: FutureWarning: 'multi_class' was deprecated in version 1.5 and will be removed in 1.7. Use OneVsRestClassifier(LogisticRegression(..)) instead. Leave it to its default value to avoid this warning.\n",
            "  warnings.warn(\n"
          ]
        },
        {
          "output_type": "stream",
          "name": "stdout",
          "text": [
            "  Cost: 315.00, Labeled: 1221, AUC: 0.0755\n"
          ]
        },
        {
          "output_type": "stream",
          "name": "stderr",
          "text": [
            "/usr/local/lib/python3.11/dist-packages/sklearn/linear_model/_logistic.py:1256: FutureWarning: 'multi_class' was deprecated in version 1.5 and will be removed in 1.7. Use OneVsRestClassifier(LogisticRegression(..)) instead. Leave it to its default value to avoid this warning.\n",
            "  warnings.warn(\n"
          ]
        },
        {
          "output_type": "stream",
          "name": "stdout",
          "text": [
            "  Cost: 330.00, Labeled: 1222, AUC: 0.0754\n"
          ]
        },
        {
          "output_type": "stream",
          "name": "stderr",
          "text": [
            "/usr/local/lib/python3.11/dist-packages/sklearn/linear_model/_logistic.py:1256: FutureWarning: 'multi_class' was deprecated in version 1.5 and will be removed in 1.7. Use OneVsRestClassifier(LogisticRegression(..)) instead. Leave it to its default value to avoid this warning.\n",
            "  warnings.warn(\n"
          ]
        },
        {
          "output_type": "stream",
          "name": "stdout",
          "text": [
            "  Cost: 345.00, Labeled: 1223, AUC: 0.0755\n"
          ]
        },
        {
          "output_type": "stream",
          "name": "stderr",
          "text": [
            "/usr/local/lib/python3.11/dist-packages/sklearn/linear_model/_logistic.py:1256: FutureWarning: 'multi_class' was deprecated in version 1.5 and will be removed in 1.7. Use OneVsRestClassifier(LogisticRegression(..)) instead. Leave it to its default value to avoid this warning.\n",
            "  warnings.warn(\n"
          ]
        },
        {
          "output_type": "stream",
          "name": "stdout",
          "text": [
            "  Cost: 360.00, Labeled: 1224, AUC: 0.0754\n",
            "  Cost: 375.00, Labeled: 1225, AUC: 0.0754\n",
            "  Cost: 390.00, Labeled: 1226, AUC: 0.0755\n"
          ]
        },
        {
          "output_type": "stream",
          "name": "stderr",
          "text": [
            "/usr/local/lib/python3.11/dist-packages/sklearn/linear_model/_logistic.py:1256: FutureWarning: 'multi_class' was deprecated in version 1.5 and will be removed in 1.7. Use OneVsRestClassifier(LogisticRegression(..)) instead. Leave it to its default value to avoid this warning.\n",
            "  warnings.warn(\n"
          ]
        },
        {
          "output_type": "stream",
          "name": "stdout",
          "text": [
            "  Cost: 405.00, Labeled: 1227, AUC: 0.0754\n"
          ]
        },
        {
          "output_type": "stream",
          "name": "stderr",
          "text": [
            "/usr/local/lib/python3.11/dist-packages/sklearn/linear_model/_logistic.py:1256: FutureWarning: 'multi_class' was deprecated in version 1.5 and will be removed in 1.7. Use OneVsRestClassifier(LogisticRegression(..)) instead. Leave it to its default value to avoid this warning.\n",
            "  warnings.warn(\n"
          ]
        },
        {
          "output_type": "stream",
          "name": "stdout",
          "text": [
            "  Cost: 420.00, Labeled: 1228, AUC: 0.0755\n"
          ]
        },
        {
          "output_type": "stream",
          "name": "stderr",
          "text": [
            "/usr/local/lib/python3.11/dist-packages/sklearn/linear_model/_logistic.py:1256: FutureWarning: 'multi_class' was deprecated in version 1.5 and will be removed in 1.7. Use OneVsRestClassifier(LogisticRegression(..)) instead. Leave it to its default value to avoid this warning.\n",
            "  warnings.warn(\n"
          ]
        },
        {
          "output_type": "stream",
          "name": "stdout",
          "text": [
            "  Cost: 435.00, Labeled: 1229, AUC: 0.0755\n"
          ]
        },
        {
          "output_type": "stream",
          "name": "stderr",
          "text": [
            "/usr/local/lib/python3.11/dist-packages/sklearn/linear_model/_logistic.py:1256: FutureWarning: 'multi_class' was deprecated in version 1.5 and will be removed in 1.7. Use OneVsRestClassifier(LogisticRegression(..)) instead. Leave it to its default value to avoid this warning.\n",
            "  warnings.warn(\n"
          ]
        },
        {
          "output_type": "stream",
          "name": "stdout",
          "text": [
            "  Cost: 450.00, Labeled: 1230, AUC: 0.0755\n"
          ]
        },
        {
          "output_type": "stream",
          "name": "stderr",
          "text": [
            "/usr/local/lib/python3.11/dist-packages/sklearn/linear_model/_logistic.py:1256: FutureWarning: 'multi_class' was deprecated in version 1.5 and will be removed in 1.7. Use OneVsRestClassifier(LogisticRegression(..)) instead. Leave it to its default value to avoid this warning.\n",
            "  warnings.warn(\n"
          ]
        },
        {
          "output_type": "stream",
          "name": "stdout",
          "text": [
            "  Cost: 465.00, Labeled: 1231, AUC: 0.0754\n"
          ]
        },
        {
          "output_type": "stream",
          "name": "stderr",
          "text": [
            "/usr/local/lib/python3.11/dist-packages/sklearn/linear_model/_logistic.py:1256: FutureWarning: 'multi_class' was deprecated in version 1.5 and will be removed in 1.7. Use OneVsRestClassifier(LogisticRegression(..)) instead. Leave it to its default value to avoid this warning.\n",
            "  warnings.warn(\n"
          ]
        },
        {
          "output_type": "stream",
          "name": "stdout",
          "text": [
            "  Cost: 480.00, Labeled: 1232, AUC: 0.0754\n"
          ]
        },
        {
          "output_type": "stream",
          "name": "stderr",
          "text": [
            "/usr/local/lib/python3.11/dist-packages/sklearn/linear_model/_logistic.py:1256: FutureWarning: 'multi_class' was deprecated in version 1.5 and will be removed in 1.7. Use OneVsRestClassifier(LogisticRegression(..)) instead. Leave it to its default value to avoid this warning.\n",
            "  warnings.warn(\n"
          ]
        },
        {
          "output_type": "stream",
          "name": "stdout",
          "text": [
            "  Cost: 495.00, Labeled: 1233, AUC: 0.0754\n"
          ]
        },
        {
          "output_type": "stream",
          "name": "stderr",
          "text": [
            "/usr/local/lib/python3.11/dist-packages/sklearn/linear_model/_logistic.py:1256: FutureWarning: 'multi_class' was deprecated in version 1.5 and will be removed in 1.7. Use OneVsRestClassifier(LogisticRegression(..)) instead. Leave it to its default value to avoid this warning.\n",
            "  warnings.warn(\n"
          ]
        },
        {
          "output_type": "stream",
          "name": "stdout",
          "text": [
            "  Cost: 510.00, Labeled: 1234, AUC: 0.0755\n",
            "traditional_al experiment finished. Total Labeled: 1234, Final AUC: 0.0755\n",
            "\n",
            "--- Running Dynamic AAL (Unc) ---\n",
            "Starting dynamic experiment. Initial Labeled: 1200, Initial AUC: 0.9285\n"
          ]
        },
        {
          "output_type": "stream",
          "name": "stderr",
          "text": [
            "/usr/local/lib/python3.11/dist-packages/sklearn/linear_model/_logistic.py:1256: FutureWarning: 'multi_class' was deprecated in version 1.5 and will be removed in 1.7. Use OneVsRestClassifier(LogisticRegression(..)) instead. Leave it to its default value to avoid this warning.\n",
            "  warnings.warn(\n",
            "/usr/local/lib/python3.11/dist-packages/sklearn/linear_model/_logistic.py:1256: FutureWarning: 'multi_class' was deprecated in version 1.5 and will be removed in 1.7. Use OneVsRestClassifier(LogisticRegression(..)) instead. Leave it to its default value to avoid this warning.\n",
            "  warnings.warn(\n"
          ]
        },
        {
          "output_type": "stream",
          "name": "stdout",
          "text": [
            "  Cost: 5.70, Labeled: 1201, AUC: 0.9286\n",
            "  Cost: 11.40, Labeled: 1201, AUC: 0.9286\n",
            "  Cost: 17.10, Labeled: 1201, AUC: 0.9286\n"
          ]
        },
        {
          "output_type": "stream",
          "name": "stderr",
          "text": [
            "/usr/local/lib/python3.11/dist-packages/sklearn/linear_model/_logistic.py:1256: FutureWarning: 'multi_class' was deprecated in version 1.5 and will be removed in 1.7. Use OneVsRestClassifier(LogisticRegression(..)) instead. Leave it to its default value to avoid this warning.\n",
            "  warnings.warn(\n"
          ]
        },
        {
          "output_type": "stream",
          "name": "stdout",
          "text": [
            "  Cost: 22.80, Labeled: 1202, AUC: 0.9286\n"
          ]
        },
        {
          "output_type": "stream",
          "name": "stderr",
          "text": [
            "/usr/local/lib/python3.11/dist-packages/sklearn/linear_model/_logistic.py:1256: FutureWarning: 'multi_class' was deprecated in version 1.5 and will be removed in 1.7. Use OneVsRestClassifier(LogisticRegression(..)) instead. Leave it to its default value to avoid this warning.\n",
            "  warnings.warn(\n"
          ]
        },
        {
          "output_type": "stream",
          "name": "stdout",
          "text": [
            "  Cost: 28.50, Labeled: 1203, AUC: 0.9285\n"
          ]
        },
        {
          "output_type": "stream",
          "name": "stderr",
          "text": [
            "/usr/local/lib/python3.11/dist-packages/sklearn/linear_model/_logistic.py:1256: FutureWarning: 'multi_class' was deprecated in version 1.5 and will be removed in 1.7. Use OneVsRestClassifier(LogisticRegression(..)) instead. Leave it to its default value to avoid this warning.\n",
            "  warnings.warn(\n"
          ]
        },
        {
          "output_type": "stream",
          "name": "stdout",
          "text": [
            "  Cost: 34.20, Labeled: 1204, AUC: 0.9286\n"
          ]
        },
        {
          "output_type": "stream",
          "name": "stderr",
          "text": [
            "/usr/local/lib/python3.11/dist-packages/sklearn/linear_model/_logistic.py:1256: FutureWarning: 'multi_class' was deprecated in version 1.5 and will be removed in 1.7. Use OneVsRestClassifier(LogisticRegression(..)) instead. Leave it to its default value to avoid this warning.\n",
            "  warnings.warn(\n"
          ]
        },
        {
          "output_type": "stream",
          "name": "stdout",
          "text": [
            "  Cost: 39.90, Labeled: 1205, AUC: 0.9286\n"
          ]
        },
        {
          "output_type": "stream",
          "name": "stderr",
          "text": [
            "/usr/local/lib/python3.11/dist-packages/sklearn/linear_model/_logistic.py:1256: FutureWarning: 'multi_class' was deprecated in version 1.5 and will be removed in 1.7. Use OneVsRestClassifier(LogisticRegression(..)) instead. Leave it to its default value to avoid this warning.\n",
            "  warnings.warn(\n"
          ]
        },
        {
          "output_type": "stream",
          "name": "stdout",
          "text": [
            "  Cost: 45.60, Labeled: 1206, AUC: 0.9284\n"
          ]
        },
        {
          "output_type": "stream",
          "name": "stderr",
          "text": [
            "/usr/local/lib/python3.11/dist-packages/sklearn/linear_model/_logistic.py:1256: FutureWarning: 'multi_class' was deprecated in version 1.5 and will be removed in 1.7. Use OneVsRestClassifier(LogisticRegression(..)) instead. Leave it to its default value to avoid this warning.\n",
            "  warnings.warn(\n"
          ]
        },
        {
          "output_type": "stream",
          "name": "stdout",
          "text": [
            "  Cost: 51.30, Labeled: 1207, AUC: 0.9285\n",
            "  Cost: 57.00, Labeled: 1207, AUC: 0.9285\n"
          ]
        },
        {
          "output_type": "stream",
          "name": "stderr",
          "text": [
            "/usr/local/lib/python3.11/dist-packages/sklearn/linear_model/_logistic.py:1256: FutureWarning: 'multi_class' was deprecated in version 1.5 and will be removed in 1.7. Use OneVsRestClassifier(LogisticRegression(..)) instead. Leave it to its default value to avoid this warning.\n",
            "  warnings.warn(\n"
          ]
        },
        {
          "output_type": "stream",
          "name": "stdout",
          "text": [
            "  Cost: 62.70, Labeled: 1208, AUC: 0.9285\n",
            "  Cost: 68.40, Labeled: 1208, AUC: 0.9285\n"
          ]
        },
        {
          "output_type": "stream",
          "name": "stderr",
          "text": [
            "/usr/local/lib/python3.11/dist-packages/sklearn/linear_model/_logistic.py:1256: FutureWarning: 'multi_class' was deprecated in version 1.5 and will be removed in 1.7. Use OneVsRestClassifier(LogisticRegression(..)) instead. Leave it to its default value to avoid this warning.\n",
            "  warnings.warn(\n"
          ]
        },
        {
          "output_type": "stream",
          "name": "stdout",
          "text": [
            "  Cost: 74.10, Labeled: 1209, AUC: 0.9285\n",
            "  Cost: 79.80, Labeled: 1209, AUC: 0.9285\n",
            "  Cost: 85.50, Labeled: 1209, AUC: 0.9285\n"
          ]
        },
        {
          "output_type": "stream",
          "name": "stderr",
          "text": [
            "/usr/local/lib/python3.11/dist-packages/sklearn/linear_model/_logistic.py:1256: FutureWarning: 'multi_class' was deprecated in version 1.5 and will be removed in 1.7. Use OneVsRestClassifier(LogisticRegression(..)) instead. Leave it to its default value to avoid this warning.\n",
            "  warnings.warn(\n"
          ]
        },
        {
          "output_type": "stream",
          "name": "stdout",
          "text": [
            "  Cost: 91.20, Labeled: 1210, AUC: 0.9285\n"
          ]
        },
        {
          "output_type": "stream",
          "name": "stderr",
          "text": [
            "/usr/local/lib/python3.11/dist-packages/sklearn/linear_model/_logistic.py:1256: FutureWarning: 'multi_class' was deprecated in version 1.5 and will be removed in 1.7. Use OneVsRestClassifier(LogisticRegression(..)) instead. Leave it to its default value to avoid this warning.\n",
            "  warnings.warn(\n"
          ]
        },
        {
          "output_type": "stream",
          "name": "stdout",
          "text": [
            "  Cost: 96.90, Labeled: 1211, AUC: 0.9286\n",
            "  Cost: 102.60, Labeled: 1211, AUC: 0.9286\n"
          ]
        },
        {
          "output_type": "stream",
          "name": "stderr",
          "text": [
            "/usr/local/lib/python3.11/dist-packages/sklearn/linear_model/_logistic.py:1256: FutureWarning: 'multi_class' was deprecated in version 1.5 and will be removed in 1.7. Use OneVsRestClassifier(LogisticRegression(..)) instead. Leave it to its default value to avoid this warning.\n",
            "  warnings.warn(\n"
          ]
        },
        {
          "output_type": "stream",
          "name": "stdout",
          "text": [
            "  Cost: 108.30, Labeled: 1212, AUC: 0.9286\n"
          ]
        },
        {
          "output_type": "stream",
          "name": "stderr",
          "text": [
            "/usr/local/lib/python3.11/dist-packages/sklearn/linear_model/_logistic.py:1256: FutureWarning: 'multi_class' was deprecated in version 1.5 and will be removed in 1.7. Use OneVsRestClassifier(LogisticRegression(..)) instead. Leave it to its default value to avoid this warning.\n",
            "  warnings.warn(\n"
          ]
        },
        {
          "output_type": "stream",
          "name": "stdout",
          "text": [
            "  Cost: 114.00, Labeled: 1213, AUC: 0.9286\n",
            "  Cost: 119.70, Labeled: 1213, AUC: 0.9286\n",
            "  Cost: 125.40, Labeled: 1213, AUC: 0.9286\n",
            "  Cost: 131.10, Labeled: 1213, AUC: 0.9286\n"
          ]
        },
        {
          "output_type": "stream",
          "name": "stderr",
          "text": [
            "/usr/local/lib/python3.11/dist-packages/sklearn/linear_model/_logistic.py:1256: FutureWarning: 'multi_class' was deprecated in version 1.5 and will be removed in 1.7. Use OneVsRestClassifier(LogisticRegression(..)) instead. Leave it to its default value to avoid this warning.\n",
            "  warnings.warn(\n"
          ]
        },
        {
          "output_type": "stream",
          "name": "stdout",
          "text": [
            "  Cost: 136.80, Labeled: 1214, AUC: 0.9286\n"
          ]
        },
        {
          "output_type": "stream",
          "name": "stderr",
          "text": [
            "/usr/local/lib/python3.11/dist-packages/sklearn/linear_model/_logistic.py:1256: FutureWarning: 'multi_class' was deprecated in version 1.5 and will be removed in 1.7. Use OneVsRestClassifier(LogisticRegression(..)) instead. Leave it to its default value to avoid this warning.\n",
            "  warnings.warn(\n"
          ]
        },
        {
          "output_type": "stream",
          "name": "stdout",
          "text": [
            "  Cost: 142.50, Labeled: 1215, AUC: 0.9286\n",
            "  Cost: 148.20, Labeled: 1215, AUC: 0.9286\n"
          ]
        },
        {
          "output_type": "stream",
          "name": "stderr",
          "text": [
            "/usr/local/lib/python3.11/dist-packages/sklearn/linear_model/_logistic.py:1256: FutureWarning: 'multi_class' was deprecated in version 1.5 and will be removed in 1.7. Use OneVsRestClassifier(LogisticRegression(..)) instead. Leave it to its default value to avoid this warning.\n",
            "  warnings.warn(\n"
          ]
        },
        {
          "output_type": "stream",
          "name": "stdout",
          "text": [
            "  Cost: 153.90, Labeled: 1216, AUC: 0.9286\n",
            "  Cost: 159.60, Labeled: 1216, AUC: 0.9286\n",
            "  Cost: 165.30, Labeled: 1216, AUC: 0.9286\n"
          ]
        },
        {
          "output_type": "stream",
          "name": "stderr",
          "text": [
            "/usr/local/lib/python3.11/dist-packages/sklearn/linear_model/_logistic.py:1256: FutureWarning: 'multi_class' was deprecated in version 1.5 and will be removed in 1.7. Use OneVsRestClassifier(LogisticRegression(..)) instead. Leave it to its default value to avoid this warning.\n",
            "  warnings.warn(\n"
          ]
        },
        {
          "output_type": "stream",
          "name": "stdout",
          "text": [
            "  Cost: 171.00, Labeled: 1217, AUC: 0.9285\n",
            "  Cost: 176.70, Labeled: 1217, AUC: 0.9285\n"
          ]
        },
        {
          "output_type": "stream",
          "name": "stderr",
          "text": [
            "/usr/local/lib/python3.11/dist-packages/sklearn/linear_model/_logistic.py:1256: FutureWarning: 'multi_class' was deprecated in version 1.5 and will be removed in 1.7. Use OneVsRestClassifier(LogisticRegression(..)) instead. Leave it to its default value to avoid this warning.\n",
            "  warnings.warn(\n"
          ]
        },
        {
          "output_type": "stream",
          "name": "stdout",
          "text": [
            "  Cost: 182.40, Labeled: 1218, AUC: 0.9285\n",
            "  Cost: 188.10, Labeled: 1218, AUC: 0.9285\n"
          ]
        },
        {
          "output_type": "stream",
          "name": "stderr",
          "text": [
            "/usr/local/lib/python3.11/dist-packages/sklearn/linear_model/_logistic.py:1256: FutureWarning: 'multi_class' was deprecated in version 1.5 and will be removed in 1.7. Use OneVsRestClassifier(LogisticRegression(..)) instead. Leave it to its default value to avoid this warning.\n",
            "  warnings.warn(\n"
          ]
        },
        {
          "output_type": "stream",
          "name": "stdout",
          "text": [
            "  Cost: 193.80, Labeled: 1219, AUC: 0.9285\n"
          ]
        },
        {
          "output_type": "stream",
          "name": "stderr",
          "text": [
            "/usr/local/lib/python3.11/dist-packages/sklearn/linear_model/_logistic.py:1256: FutureWarning: 'multi_class' was deprecated in version 1.5 and will be removed in 1.7. Use OneVsRestClassifier(LogisticRegression(..)) instead. Leave it to its default value to avoid this warning.\n",
            "  warnings.warn(\n"
          ]
        },
        {
          "output_type": "stream",
          "name": "stdout",
          "text": [
            "  Cost: 199.50, Labeled: 1220, AUC: 0.9285\n",
            "  Cost: 205.20, Labeled: 1220, AUC: 0.9285\n",
            "  Cost: 210.90, Labeled: 1220, AUC: 0.9285\n",
            "  Cost: 216.60, Labeled: 1220, AUC: 0.9285\n"
          ]
        },
        {
          "output_type": "stream",
          "name": "stderr",
          "text": [
            "/usr/local/lib/python3.11/dist-packages/sklearn/linear_model/_logistic.py:1256: FutureWarning: 'multi_class' was deprecated in version 1.5 and will be removed in 1.7. Use OneVsRestClassifier(LogisticRegression(..)) instead. Leave it to its default value to avoid this warning.\n",
            "  warnings.warn(\n"
          ]
        },
        {
          "output_type": "stream",
          "name": "stdout",
          "text": [
            "  Cost: 222.30, Labeled: 1221, AUC: 0.9285\n",
            "  Cost: 228.00, Labeled: 1221, AUC: 0.9285\n",
            "  Cost: 233.70, Labeled: 1221, AUC: 0.9285\n",
            "  Cost: 239.40, Labeled: 1221, AUC: 0.9285\n"
          ]
        },
        {
          "output_type": "stream",
          "name": "stderr",
          "text": [
            "/usr/local/lib/python3.11/dist-packages/sklearn/linear_model/_logistic.py:1256: FutureWarning: 'multi_class' was deprecated in version 1.5 and will be removed in 1.7. Use OneVsRestClassifier(LogisticRegression(..)) instead. Leave it to its default value to avoid this warning.\n",
            "  warnings.warn(\n"
          ]
        },
        {
          "output_type": "stream",
          "name": "stdout",
          "text": [
            "  Cost: 245.10, Labeled: 1222, AUC: 0.9285\n",
            "  Cost: 253.30, Labeled: 1222, AUC: 0.9285\n"
          ]
        },
        {
          "output_type": "stream",
          "name": "stderr",
          "text": [
            "/usr/local/lib/python3.11/dist-packages/sklearn/linear_model/_logistic.py:1256: FutureWarning: 'multi_class' was deprecated in version 1.5 and will be removed in 1.7. Use OneVsRestClassifier(LogisticRegression(..)) instead. Leave it to its default value to avoid this warning.\n",
            "  warnings.warn(\n"
          ]
        },
        {
          "output_type": "stream",
          "name": "stdout",
          "text": [
            "  Cost: 259.00, Labeled: 1223, AUC: 0.9285\n"
          ]
        },
        {
          "output_type": "stream",
          "name": "stderr",
          "text": [
            "/usr/local/lib/python3.11/dist-packages/sklearn/linear_model/_logistic.py:1256: FutureWarning: 'multi_class' was deprecated in version 1.5 and will be removed in 1.7. Use OneVsRestClassifier(LogisticRegression(..)) instead. Leave it to its default value to avoid this warning.\n",
            "  warnings.warn(\n"
          ]
        },
        {
          "output_type": "stream",
          "name": "stdout",
          "text": [
            "  Cost: 264.70, Labeled: 1224, AUC: 0.9285\n",
            "  Cost: 272.90, Labeled: 1224, AUC: 0.9285\n",
            "  Cost: 278.60, Labeled: 1224, AUC: 0.9285\n"
          ]
        },
        {
          "output_type": "stream",
          "name": "stderr",
          "text": [
            "/usr/local/lib/python3.11/dist-packages/sklearn/linear_model/_logistic.py:1256: FutureWarning: 'multi_class' was deprecated in version 1.5 and will be removed in 1.7. Use OneVsRestClassifier(LogisticRegression(..)) instead. Leave it to its default value to avoid this warning.\n",
            "  warnings.warn(\n"
          ]
        },
        {
          "output_type": "stream",
          "name": "stdout",
          "text": [
            "  Cost: 284.30, Labeled: 1225, AUC: 0.9285\n",
            "  Cost: 290.00, Labeled: 1225, AUC: 0.9285\n",
            "  Cost: 295.70, Labeled: 1225, AUC: 0.9285\n"
          ]
        },
        {
          "output_type": "stream",
          "name": "stderr",
          "text": [
            "/usr/local/lib/python3.11/dist-packages/sklearn/linear_model/_logistic.py:1256: FutureWarning: 'multi_class' was deprecated in version 1.5 and will be removed in 1.7. Use OneVsRestClassifier(LogisticRegression(..)) instead. Leave it to its default value to avoid this warning.\n",
            "  warnings.warn(\n"
          ]
        },
        {
          "output_type": "stream",
          "name": "stdout",
          "text": [
            "  Cost: 301.40, Labeled: 1226, AUC: 0.9285\n",
            "  Cost: 307.10, Labeled: 1226, AUC: 0.9285\n"
          ]
        },
        {
          "output_type": "stream",
          "name": "stderr",
          "text": [
            "/usr/local/lib/python3.11/dist-packages/sklearn/linear_model/_logistic.py:1256: FutureWarning: 'multi_class' was deprecated in version 1.5 and will be removed in 1.7. Use OneVsRestClassifier(LogisticRegression(..)) instead. Leave it to its default value to avoid this warning.\n",
            "  warnings.warn(\n"
          ]
        },
        {
          "output_type": "stream",
          "name": "stdout",
          "text": [
            "  Cost: 312.80, Labeled: 1227, AUC: 0.9285\n",
            "  Cost: 318.50, Labeled: 1227, AUC: 0.9285\n",
            "  Cost: 324.20, Labeled: 1227, AUC: 0.9285\n",
            "  Cost: 329.90, Labeled: 1227, AUC: 0.9285\n"
          ]
        },
        {
          "output_type": "stream",
          "name": "stderr",
          "text": [
            "/usr/local/lib/python3.11/dist-packages/sklearn/linear_model/_logistic.py:1256: FutureWarning: 'multi_class' was deprecated in version 1.5 and will be removed in 1.7. Use OneVsRestClassifier(LogisticRegression(..)) instead. Leave it to its default value to avoid this warning.\n",
            "  warnings.warn(\n"
          ]
        },
        {
          "output_type": "stream",
          "name": "stdout",
          "text": [
            "  Cost: 335.60, Labeled: 1228, AUC: 0.9285\n",
            "  Cost: 341.30, Labeled: 1228, AUC: 0.9285\n",
            "  Cost: 347.00, Labeled: 1228, AUC: 0.9285\n"
          ]
        },
        {
          "output_type": "stream",
          "name": "stderr",
          "text": [
            "/usr/local/lib/python3.11/dist-packages/sklearn/linear_model/_logistic.py:1256: FutureWarning: 'multi_class' was deprecated in version 1.5 and will be removed in 1.7. Use OneVsRestClassifier(LogisticRegression(..)) instead. Leave it to its default value to avoid this warning.\n",
            "  warnings.warn(\n"
          ]
        },
        {
          "output_type": "stream",
          "name": "stdout",
          "text": [
            "  Cost: 352.70, Labeled: 1229, AUC: 0.9286\n",
            "  Cost: 358.40, Labeled: 1229, AUC: 0.9286\n",
            "  Cost: 364.10, Labeled: 1229, AUC: 0.9286\n",
            "  Cost: 372.30, Labeled: 1229, AUC: 0.9286\n",
            "  Cost: 378.00, Labeled: 1229, AUC: 0.9286\n",
            "  Cost: 383.70, Labeled: 1229, AUC: 0.9286\n"
          ]
        },
        {
          "output_type": "stream",
          "name": "stderr",
          "text": [
            "/usr/local/lib/python3.11/dist-packages/sklearn/linear_model/_logistic.py:1256: FutureWarning: 'multi_class' was deprecated in version 1.5 and will be removed in 1.7. Use OneVsRestClassifier(LogisticRegression(..)) instead. Leave it to its default value to avoid this warning.\n",
            "  warnings.warn(\n"
          ]
        },
        {
          "output_type": "stream",
          "name": "stdout",
          "text": [
            "  Cost: 389.40, Labeled: 1230, AUC: 0.9286\n"
          ]
        },
        {
          "output_type": "stream",
          "name": "stderr",
          "text": [
            "/usr/local/lib/python3.11/dist-packages/sklearn/linear_model/_logistic.py:1256: FutureWarning: 'multi_class' was deprecated in version 1.5 and will be removed in 1.7. Use OneVsRestClassifier(LogisticRegression(..)) instead. Leave it to its default value to avoid this warning.\n",
            "  warnings.warn(\n"
          ]
        },
        {
          "output_type": "stream",
          "name": "stdout",
          "text": [
            "  Cost: 395.10, Labeled: 1231, AUC: 0.9286\n"
          ]
        },
        {
          "output_type": "stream",
          "name": "stderr",
          "text": [
            "/usr/local/lib/python3.11/dist-packages/sklearn/linear_model/_logistic.py:1256: FutureWarning: 'multi_class' was deprecated in version 1.5 and will be removed in 1.7. Use OneVsRestClassifier(LogisticRegression(..)) instead. Leave it to its default value to avoid this warning.\n",
            "  warnings.warn(\n"
          ]
        },
        {
          "output_type": "stream",
          "name": "stdout",
          "text": [
            "  Cost: 400.80, Labeled: 1232, AUC: 0.9286\n",
            "  Cost: 406.50, Labeled: 1232, AUC: 0.9286\n"
          ]
        },
        {
          "output_type": "stream",
          "name": "stderr",
          "text": [
            "/usr/local/lib/python3.11/dist-packages/sklearn/linear_model/_logistic.py:1256: FutureWarning: 'multi_class' was deprecated in version 1.5 and will be removed in 1.7. Use OneVsRestClassifier(LogisticRegression(..)) instead. Leave it to its default value to avoid this warning.\n",
            "  warnings.warn(\n"
          ]
        },
        {
          "output_type": "stream",
          "name": "stdout",
          "text": [
            "  Cost: 412.20, Labeled: 1233, AUC: 0.9286\n"
          ]
        },
        {
          "output_type": "stream",
          "name": "stderr",
          "text": [
            "/usr/local/lib/python3.11/dist-packages/sklearn/linear_model/_logistic.py:1256: FutureWarning: 'multi_class' was deprecated in version 1.5 and will be removed in 1.7. Use OneVsRestClassifier(LogisticRegression(..)) instead. Leave it to its default value to avoid this warning.\n",
            "  warnings.warn(\n"
          ]
        },
        {
          "output_type": "stream",
          "name": "stdout",
          "text": [
            "  Cost: 417.90, Labeled: 1234, AUC: 0.9286\n",
            "  Cost: 423.60, Labeled: 1234, AUC: 0.9286\n",
            "  Cost: 429.30, Labeled: 1234, AUC: 0.9286\n",
            "  Cost: 435.00, Labeled: 1234, AUC: 0.9286\n"
          ]
        },
        {
          "output_type": "stream",
          "name": "stderr",
          "text": [
            "/usr/local/lib/python3.11/dist-packages/sklearn/linear_model/_logistic.py:1256: FutureWarning: 'multi_class' was deprecated in version 1.5 and will be removed in 1.7. Use OneVsRestClassifier(LogisticRegression(..)) instead. Leave it to its default value to avoid this warning.\n",
            "  warnings.warn(\n"
          ]
        },
        {
          "output_type": "stream",
          "name": "stdout",
          "text": [
            "  Cost: 440.70, Labeled: 1235, AUC: 0.9286\n",
            "  Cost: 446.40, Labeled: 1235, AUC: 0.9286\n"
          ]
        },
        {
          "output_type": "stream",
          "name": "stderr",
          "text": [
            "/usr/local/lib/python3.11/dist-packages/sklearn/linear_model/_logistic.py:1256: FutureWarning: 'multi_class' was deprecated in version 1.5 and will be removed in 1.7. Use OneVsRestClassifier(LogisticRegression(..)) instead. Leave it to its default value to avoid this warning.\n",
            "  warnings.warn(\n"
          ]
        },
        {
          "output_type": "stream",
          "name": "stdout",
          "text": [
            "  Cost: 452.10, Labeled: 1236, AUC: 0.9286\n"
          ]
        },
        {
          "output_type": "stream",
          "name": "stderr",
          "text": [
            "/usr/local/lib/python3.11/dist-packages/sklearn/linear_model/_logistic.py:1256: FutureWarning: 'multi_class' was deprecated in version 1.5 and will be removed in 1.7. Use OneVsRestClassifier(LogisticRegression(..)) instead. Leave it to its default value to avoid this warning.\n",
            "  warnings.warn(\n"
          ]
        },
        {
          "output_type": "stream",
          "name": "stdout",
          "text": [
            "  Cost: 457.80, Labeled: 1237, AUC: 0.9287\n"
          ]
        },
        {
          "output_type": "stream",
          "name": "stderr",
          "text": [
            "/usr/local/lib/python3.11/dist-packages/sklearn/linear_model/_logistic.py:1256: FutureWarning: 'multi_class' was deprecated in version 1.5 and will be removed in 1.7. Use OneVsRestClassifier(LogisticRegression(..)) instead. Leave it to its default value to avoid this warning.\n",
            "  warnings.warn(\n"
          ]
        },
        {
          "output_type": "stream",
          "name": "stdout",
          "text": [
            "  Cost: 463.50, Labeled: 1238, AUC: 0.9289\n"
          ]
        },
        {
          "output_type": "stream",
          "name": "stderr",
          "text": [
            "/usr/local/lib/python3.11/dist-packages/sklearn/linear_model/_logistic.py:1256: FutureWarning: 'multi_class' was deprecated in version 1.5 and will be removed in 1.7. Use OneVsRestClassifier(LogisticRegression(..)) instead. Leave it to its default value to avoid this warning.\n",
            "  warnings.warn(\n"
          ]
        },
        {
          "output_type": "stream",
          "name": "stdout",
          "text": [
            "  Cost: 469.20, Labeled: 1239, AUC: 0.9289\n",
            "  Cost: 474.90, Labeled: 1239, AUC: 0.9289\n",
            "  Cost: 480.60, Labeled: 1239, AUC: 0.9289\n"
          ]
        },
        {
          "output_type": "stream",
          "name": "stderr",
          "text": [
            "/usr/local/lib/python3.11/dist-packages/sklearn/linear_model/_logistic.py:1256: FutureWarning: 'multi_class' was deprecated in version 1.5 and will be removed in 1.7. Use OneVsRestClassifier(LogisticRegression(..)) instead. Leave it to its default value to avoid this warning.\n",
            "  warnings.warn(\n"
          ]
        },
        {
          "output_type": "stream",
          "name": "stdout",
          "text": [
            "  Cost: 486.30, Labeled: 1240, AUC: 0.9288\n",
            "  Cost: 492.00, Labeled: 1240, AUC: 0.9288\n"
          ]
        },
        {
          "output_type": "stream",
          "name": "stderr",
          "text": [
            "/usr/local/lib/python3.11/dist-packages/sklearn/linear_model/_logistic.py:1256: FutureWarning: 'multi_class' was deprecated in version 1.5 and will be removed in 1.7. Use OneVsRestClassifier(LogisticRegression(..)) instead. Leave it to its default value to avoid this warning.\n",
            "  warnings.warn(\n"
          ]
        },
        {
          "output_type": "stream",
          "name": "stdout",
          "text": [
            "  Cost: 497.70, Labeled: 1241, AUC: 0.9289\n"
          ]
        },
        {
          "output_type": "stream",
          "name": "stderr",
          "text": [
            "/usr/local/lib/python3.11/dist-packages/sklearn/linear_model/_logistic.py:1256: FutureWarning: 'multi_class' was deprecated in version 1.5 and will be removed in 1.7. Use OneVsRestClassifier(LogisticRegression(..)) instead. Leave it to its default value to avoid this warning.\n",
            "  warnings.warn(\n",
            "/usr/local/lib/python3.11/dist-packages/sklearn/linear_model/_logistic.py:1256: FutureWarning: 'multi_class' was deprecated in version 1.5 and will be removed in 1.7. Use OneVsRestClassifier(LogisticRegression(..)) instead. Leave it to its default value to avoid this warning.\n",
            "  warnings.warn(\n"
          ]
        },
        {
          "output_type": "stream",
          "name": "stdout",
          "text": [
            "  Cost: 503.40, Labeled: 1242, AUC: 0.9289\n",
            "dynamic experiment finished. Total Labeled: 1242, Final AUC: 0.9289\n",
            "\n",
            "--- Running Dynamic AAL (Const) ---\n",
            "Starting dynamic experiment. Initial Labeled: 1200, Initial AUC: 0.9285\n"
          ]
        },
        {
          "output_type": "stream",
          "name": "stderr",
          "text": [
            "/usr/local/lib/python3.11/dist-packages/sklearn/linear_model/_logistic.py:1256: FutureWarning: 'multi_class' was deprecated in version 1.5 and will be removed in 1.7. Use OneVsRestClassifier(LogisticRegression(..)) instead. Leave it to its default value to avoid this warning.\n",
            "  warnings.warn(\n"
          ]
        },
        {
          "output_type": "stream",
          "name": "stdout",
          "text": [
            "  Cost: 5.70, Labeled: 1201, AUC: 0.9285\n"
          ]
        },
        {
          "output_type": "stream",
          "name": "stderr",
          "text": [
            "/usr/local/lib/python3.11/dist-packages/sklearn/linear_model/_logistic.py:1256: FutureWarning: 'multi_class' was deprecated in version 1.5 and will be removed in 1.7. Use OneVsRestClassifier(LogisticRegression(..)) instead. Leave it to its default value to avoid this warning.\n",
            "  warnings.warn(\n"
          ]
        },
        {
          "output_type": "stream",
          "name": "stdout",
          "text": [
            "  Cost: 11.40, Labeled: 1202, AUC: 0.9285\n"
          ]
        },
        {
          "output_type": "stream",
          "name": "stderr",
          "text": [
            "/usr/local/lib/python3.11/dist-packages/sklearn/linear_model/_logistic.py:1256: FutureWarning: 'multi_class' was deprecated in version 1.5 and will be removed in 1.7. Use OneVsRestClassifier(LogisticRegression(..)) instead. Leave it to its default value to avoid this warning.\n",
            "  warnings.warn(\n"
          ]
        },
        {
          "output_type": "stream",
          "name": "stdout",
          "text": [
            "  Cost: 17.10, Labeled: 1203, AUC: 0.9285\n"
          ]
        },
        {
          "output_type": "stream",
          "name": "stderr",
          "text": [
            "/usr/local/lib/python3.11/dist-packages/sklearn/linear_model/_logistic.py:1256: FutureWarning: 'multi_class' was deprecated in version 1.5 and will be removed in 1.7. Use OneVsRestClassifier(LogisticRegression(..)) instead. Leave it to its default value to avoid this warning.\n",
            "  warnings.warn(\n"
          ]
        },
        {
          "output_type": "stream",
          "name": "stdout",
          "text": [
            "  Cost: 22.80, Labeled: 1204, AUC: 0.9286\n"
          ]
        },
        {
          "output_type": "stream",
          "name": "stderr",
          "text": [
            "/usr/local/lib/python3.11/dist-packages/sklearn/linear_model/_logistic.py:1256: FutureWarning: 'multi_class' was deprecated in version 1.5 and will be removed in 1.7. Use OneVsRestClassifier(LogisticRegression(..)) instead. Leave it to its default value to avoid this warning.\n",
            "  warnings.warn(\n"
          ]
        },
        {
          "output_type": "stream",
          "name": "stdout",
          "text": [
            "  Cost: 28.50, Labeled: 1205, AUC: 0.9285\n"
          ]
        },
        {
          "output_type": "stream",
          "name": "stderr",
          "text": [
            "/usr/local/lib/python3.11/dist-packages/sklearn/linear_model/_logistic.py:1256: FutureWarning: 'multi_class' was deprecated in version 1.5 and will be removed in 1.7. Use OneVsRestClassifier(LogisticRegression(..)) instead. Leave it to its default value to avoid this warning.\n",
            "  warnings.warn(\n"
          ]
        },
        {
          "output_type": "stream",
          "name": "stdout",
          "text": [
            "  Cost: 34.20, Labeled: 1206, AUC: 0.9285\n"
          ]
        },
        {
          "output_type": "stream",
          "name": "stderr",
          "text": [
            "/usr/local/lib/python3.11/dist-packages/sklearn/linear_model/_logistic.py:1256: FutureWarning: 'multi_class' was deprecated in version 1.5 and will be removed in 1.7. Use OneVsRestClassifier(LogisticRegression(..)) instead. Leave it to its default value to avoid this warning.\n",
            "  warnings.warn(\n"
          ]
        },
        {
          "output_type": "stream",
          "name": "stdout",
          "text": [
            "  Cost: 39.90, Labeled: 1207, AUC: 0.9285\n"
          ]
        },
        {
          "output_type": "stream",
          "name": "stderr",
          "text": [
            "/usr/local/lib/python3.11/dist-packages/sklearn/linear_model/_logistic.py:1256: FutureWarning: 'multi_class' was deprecated in version 1.5 and will be removed in 1.7. Use OneVsRestClassifier(LogisticRegression(..)) instead. Leave it to its default value to avoid this warning.\n",
            "  warnings.warn(\n"
          ]
        },
        {
          "output_type": "stream",
          "name": "stdout",
          "text": [
            "  Cost: 45.60, Labeled: 1208, AUC: 0.9285\n"
          ]
        },
        {
          "output_type": "stream",
          "name": "stderr",
          "text": [
            "/usr/local/lib/python3.11/dist-packages/sklearn/linear_model/_logistic.py:1256: FutureWarning: 'multi_class' was deprecated in version 1.5 and will be removed in 1.7. Use OneVsRestClassifier(LogisticRegression(..)) instead. Leave it to its default value to avoid this warning.\n",
            "  warnings.warn(\n"
          ]
        },
        {
          "output_type": "stream",
          "name": "stdout",
          "text": [
            "  Cost: 51.30, Labeled: 1209, AUC: 0.9285\n"
          ]
        },
        {
          "output_type": "stream",
          "name": "stderr",
          "text": [
            "/usr/local/lib/python3.11/dist-packages/sklearn/linear_model/_logistic.py:1256: FutureWarning: 'multi_class' was deprecated in version 1.5 and will be removed in 1.7. Use OneVsRestClassifier(LogisticRegression(..)) instead. Leave it to its default value to avoid this warning.\n",
            "  warnings.warn(\n"
          ]
        },
        {
          "output_type": "stream",
          "name": "stdout",
          "text": [
            "  Cost: 57.00, Labeled: 1210, AUC: 0.9285\n"
          ]
        },
        {
          "output_type": "stream",
          "name": "stderr",
          "text": [
            "/usr/local/lib/python3.11/dist-packages/sklearn/linear_model/_logistic.py:1256: FutureWarning: 'multi_class' was deprecated in version 1.5 and will be removed in 1.7. Use OneVsRestClassifier(LogisticRegression(..)) instead. Leave it to its default value to avoid this warning.\n",
            "  warnings.warn(\n"
          ]
        },
        {
          "output_type": "stream",
          "name": "stdout",
          "text": [
            "  Cost: 62.70, Labeled: 1211, AUC: 0.9285\n"
          ]
        },
        {
          "output_type": "stream",
          "name": "stderr",
          "text": [
            "/usr/local/lib/python3.11/dist-packages/sklearn/linear_model/_logistic.py:1256: FutureWarning: 'multi_class' was deprecated in version 1.5 and will be removed in 1.7. Use OneVsRestClassifier(LogisticRegression(..)) instead. Leave it to its default value to avoid this warning.\n",
            "  warnings.warn(\n"
          ]
        },
        {
          "output_type": "stream",
          "name": "stdout",
          "text": [
            "  Cost: 68.40, Labeled: 1212, AUC: 0.9284\n"
          ]
        },
        {
          "output_type": "stream",
          "name": "stderr",
          "text": [
            "/usr/local/lib/python3.11/dist-packages/sklearn/linear_model/_logistic.py:1256: FutureWarning: 'multi_class' was deprecated in version 1.5 and will be removed in 1.7. Use OneVsRestClassifier(LogisticRegression(..)) instead. Leave it to its default value to avoid this warning.\n",
            "  warnings.warn(\n"
          ]
        },
        {
          "output_type": "stream",
          "name": "stdout",
          "text": [
            "  Cost: 74.10, Labeled: 1213, AUC: 0.9284\n"
          ]
        },
        {
          "output_type": "stream",
          "name": "stderr",
          "text": [
            "/usr/local/lib/python3.11/dist-packages/sklearn/linear_model/_logistic.py:1256: FutureWarning: 'multi_class' was deprecated in version 1.5 and will be removed in 1.7. Use OneVsRestClassifier(LogisticRegression(..)) instead. Leave it to its default value to avoid this warning.\n",
            "  warnings.warn(\n"
          ]
        },
        {
          "output_type": "stream",
          "name": "stdout",
          "text": [
            "  Cost: 79.80, Labeled: 1214, AUC: 0.9284\n"
          ]
        },
        {
          "output_type": "stream",
          "name": "stderr",
          "text": [
            "/usr/local/lib/python3.11/dist-packages/sklearn/linear_model/_logistic.py:1256: FutureWarning: 'multi_class' was deprecated in version 1.5 and will be removed in 1.7. Use OneVsRestClassifier(LogisticRegression(..)) instead. Leave it to its default value to avoid this warning.\n",
            "  warnings.warn(\n"
          ]
        },
        {
          "output_type": "stream",
          "name": "stdout",
          "text": [
            "  Cost: 85.50, Labeled: 1215, AUC: 0.9284\n"
          ]
        },
        {
          "output_type": "stream",
          "name": "stderr",
          "text": [
            "/usr/local/lib/python3.11/dist-packages/sklearn/linear_model/_logistic.py:1256: FutureWarning: 'multi_class' was deprecated in version 1.5 and will be removed in 1.7. Use OneVsRestClassifier(LogisticRegression(..)) instead. Leave it to its default value to avoid this warning.\n",
            "  warnings.warn(\n"
          ]
        },
        {
          "output_type": "stream",
          "name": "stdout",
          "text": [
            "  Cost: 91.20, Labeled: 1216, AUC: 0.9285\n"
          ]
        },
        {
          "output_type": "stream",
          "name": "stderr",
          "text": [
            "/usr/local/lib/python3.11/dist-packages/sklearn/linear_model/_logistic.py:1256: FutureWarning: 'multi_class' was deprecated in version 1.5 and will be removed in 1.7. Use OneVsRestClassifier(LogisticRegression(..)) instead. Leave it to its default value to avoid this warning.\n",
            "  warnings.warn(\n"
          ]
        },
        {
          "output_type": "stream",
          "name": "stdout",
          "text": [
            "  Cost: 96.90, Labeled: 1217, AUC: 0.9285\n"
          ]
        },
        {
          "output_type": "stream",
          "name": "stderr",
          "text": [
            "/usr/local/lib/python3.11/dist-packages/sklearn/linear_model/_logistic.py:1256: FutureWarning: 'multi_class' was deprecated in version 1.5 and will be removed in 1.7. Use OneVsRestClassifier(LogisticRegression(..)) instead. Leave it to its default value to avoid this warning.\n",
            "  warnings.warn(\n"
          ]
        },
        {
          "output_type": "stream",
          "name": "stdout",
          "text": [
            "  Cost: 102.60, Labeled: 1218, AUC: 0.9285\n"
          ]
        },
        {
          "output_type": "stream",
          "name": "stderr",
          "text": [
            "/usr/local/lib/python3.11/dist-packages/sklearn/linear_model/_logistic.py:1256: FutureWarning: 'multi_class' was deprecated in version 1.5 and will be removed in 1.7. Use OneVsRestClassifier(LogisticRegression(..)) instead. Leave it to its default value to avoid this warning.\n",
            "  warnings.warn(\n"
          ]
        },
        {
          "output_type": "stream",
          "name": "stdout",
          "text": [
            "  Cost: 108.30, Labeled: 1219, AUC: 0.9285\n"
          ]
        },
        {
          "output_type": "stream",
          "name": "stderr",
          "text": [
            "/usr/local/lib/python3.11/dist-packages/sklearn/linear_model/_logistic.py:1256: FutureWarning: 'multi_class' was deprecated in version 1.5 and will be removed in 1.7. Use OneVsRestClassifier(LogisticRegression(..)) instead. Leave it to its default value to avoid this warning.\n",
            "  warnings.warn(\n"
          ]
        },
        {
          "output_type": "stream",
          "name": "stdout",
          "text": [
            "  Cost: 114.00, Labeled: 1220, AUC: 0.9285\n"
          ]
        },
        {
          "output_type": "stream",
          "name": "stderr",
          "text": [
            "/usr/local/lib/python3.11/dist-packages/sklearn/linear_model/_logistic.py:1256: FutureWarning: 'multi_class' was deprecated in version 1.5 and will be removed in 1.7. Use OneVsRestClassifier(LogisticRegression(..)) instead. Leave it to its default value to avoid this warning.\n",
            "  warnings.warn(\n"
          ]
        },
        {
          "output_type": "stream",
          "name": "stdout",
          "text": [
            "  Cost: 119.70, Labeled: 1221, AUC: 0.9284\n"
          ]
        },
        {
          "output_type": "stream",
          "name": "stderr",
          "text": [
            "/usr/local/lib/python3.11/dist-packages/sklearn/linear_model/_logistic.py:1256: FutureWarning: 'multi_class' was deprecated in version 1.5 and will be removed in 1.7. Use OneVsRestClassifier(LogisticRegression(..)) instead. Leave it to its default value to avoid this warning.\n",
            "  warnings.warn(\n"
          ]
        },
        {
          "output_type": "stream",
          "name": "stdout",
          "text": [
            "  Cost: 125.40, Labeled: 1222, AUC: 0.9285\n"
          ]
        },
        {
          "output_type": "stream",
          "name": "stderr",
          "text": [
            "/usr/local/lib/python3.11/dist-packages/sklearn/linear_model/_logistic.py:1256: FutureWarning: 'multi_class' was deprecated in version 1.5 and will be removed in 1.7. Use OneVsRestClassifier(LogisticRegression(..)) instead. Leave it to its default value to avoid this warning.\n",
            "  warnings.warn(\n"
          ]
        },
        {
          "output_type": "stream",
          "name": "stdout",
          "text": [
            "  Cost: 131.10, Labeled: 1223, AUC: 0.9285\n"
          ]
        },
        {
          "output_type": "stream",
          "name": "stderr",
          "text": [
            "/usr/local/lib/python3.11/dist-packages/sklearn/linear_model/_logistic.py:1256: FutureWarning: 'multi_class' was deprecated in version 1.5 and will be removed in 1.7. Use OneVsRestClassifier(LogisticRegression(..)) instead. Leave it to its default value to avoid this warning.\n",
            "  warnings.warn(\n"
          ]
        },
        {
          "output_type": "stream",
          "name": "stdout",
          "text": [
            "  Cost: 136.80, Labeled: 1224, AUC: 0.9284\n"
          ]
        },
        {
          "output_type": "stream",
          "name": "stderr",
          "text": [
            "/usr/local/lib/python3.11/dist-packages/sklearn/linear_model/_logistic.py:1256: FutureWarning: 'multi_class' was deprecated in version 1.5 and will be removed in 1.7. Use OneVsRestClassifier(LogisticRegression(..)) instead. Leave it to its default value to avoid this warning.\n",
            "  warnings.warn(\n"
          ]
        },
        {
          "output_type": "stream",
          "name": "stdout",
          "text": [
            "  Cost: 142.50, Labeled: 1225, AUC: 0.9284\n"
          ]
        },
        {
          "output_type": "stream",
          "name": "stderr",
          "text": [
            "/usr/local/lib/python3.11/dist-packages/sklearn/linear_model/_logistic.py:1256: FutureWarning: 'multi_class' was deprecated in version 1.5 and will be removed in 1.7. Use OneVsRestClassifier(LogisticRegression(..)) instead. Leave it to its default value to avoid this warning.\n",
            "  warnings.warn(\n"
          ]
        },
        {
          "output_type": "stream",
          "name": "stdout",
          "text": [
            "  Cost: 148.20, Labeled: 1226, AUC: 0.9283\n"
          ]
        },
        {
          "output_type": "stream",
          "name": "stderr",
          "text": [
            "/usr/local/lib/python3.11/dist-packages/sklearn/linear_model/_logistic.py:1256: FutureWarning: 'multi_class' was deprecated in version 1.5 and will be removed in 1.7. Use OneVsRestClassifier(LogisticRegression(..)) instead. Leave it to its default value to avoid this warning.\n",
            "  warnings.warn(\n"
          ]
        },
        {
          "output_type": "stream",
          "name": "stdout",
          "text": [
            "  Cost: 153.90, Labeled: 1227, AUC: 0.9283\n"
          ]
        },
        {
          "output_type": "stream",
          "name": "stderr",
          "text": [
            "/usr/local/lib/python3.11/dist-packages/sklearn/linear_model/_logistic.py:1256: FutureWarning: 'multi_class' was deprecated in version 1.5 and will be removed in 1.7. Use OneVsRestClassifier(LogisticRegression(..)) instead. Leave it to its default value to avoid this warning.\n",
            "  warnings.warn(\n"
          ]
        },
        {
          "output_type": "stream",
          "name": "stdout",
          "text": [
            "  Cost: 159.60, Labeled: 1228, AUC: 0.9283\n"
          ]
        },
        {
          "output_type": "stream",
          "name": "stderr",
          "text": [
            "/usr/local/lib/python3.11/dist-packages/sklearn/linear_model/_logistic.py:1256: FutureWarning: 'multi_class' was deprecated in version 1.5 and will be removed in 1.7. Use OneVsRestClassifier(LogisticRegression(..)) instead. Leave it to its default value to avoid this warning.\n",
            "  warnings.warn(\n"
          ]
        },
        {
          "output_type": "stream",
          "name": "stdout",
          "text": [
            "  Cost: 165.30, Labeled: 1229, AUC: 0.9283\n"
          ]
        },
        {
          "output_type": "stream",
          "name": "stderr",
          "text": [
            "/usr/local/lib/python3.11/dist-packages/sklearn/linear_model/_logistic.py:1256: FutureWarning: 'multi_class' was deprecated in version 1.5 and will be removed in 1.7. Use OneVsRestClassifier(LogisticRegression(..)) instead. Leave it to its default value to avoid this warning.\n",
            "  warnings.warn(\n"
          ]
        },
        {
          "output_type": "stream",
          "name": "stdout",
          "text": [
            "  Cost: 171.00, Labeled: 1230, AUC: 0.9283\n"
          ]
        },
        {
          "output_type": "stream",
          "name": "stderr",
          "text": [
            "/usr/local/lib/python3.11/dist-packages/sklearn/linear_model/_logistic.py:1256: FutureWarning: 'multi_class' was deprecated in version 1.5 and will be removed in 1.7. Use OneVsRestClassifier(LogisticRegression(..)) instead. Leave it to its default value to avoid this warning.\n",
            "  warnings.warn(\n"
          ]
        },
        {
          "output_type": "stream",
          "name": "stdout",
          "text": [
            "  Cost: 176.70, Labeled: 1231, AUC: 0.9283\n"
          ]
        },
        {
          "output_type": "stream",
          "name": "stderr",
          "text": [
            "/usr/local/lib/python3.11/dist-packages/sklearn/linear_model/_logistic.py:1256: FutureWarning: 'multi_class' was deprecated in version 1.5 and will be removed in 1.7. Use OneVsRestClassifier(LogisticRegression(..)) instead. Leave it to its default value to avoid this warning.\n",
            "  warnings.warn(\n"
          ]
        },
        {
          "output_type": "stream",
          "name": "stdout",
          "text": [
            "  Cost: 182.40, Labeled: 1232, AUC: 0.9283\n"
          ]
        },
        {
          "output_type": "stream",
          "name": "stderr",
          "text": [
            "/usr/local/lib/python3.11/dist-packages/sklearn/linear_model/_logistic.py:1256: FutureWarning: 'multi_class' was deprecated in version 1.5 and will be removed in 1.7. Use OneVsRestClassifier(LogisticRegression(..)) instead. Leave it to its default value to avoid this warning.\n",
            "  warnings.warn(\n"
          ]
        },
        {
          "output_type": "stream",
          "name": "stdout",
          "text": [
            "  Cost: 188.10, Labeled: 1233, AUC: 0.9283\n"
          ]
        },
        {
          "output_type": "stream",
          "name": "stderr",
          "text": [
            "/usr/local/lib/python3.11/dist-packages/sklearn/linear_model/_logistic.py:1256: FutureWarning: 'multi_class' was deprecated in version 1.5 and will be removed in 1.7. Use OneVsRestClassifier(LogisticRegression(..)) instead. Leave it to its default value to avoid this warning.\n",
            "  warnings.warn(\n"
          ]
        },
        {
          "output_type": "stream",
          "name": "stdout",
          "text": [
            "  Cost: 193.80, Labeled: 1234, AUC: 0.9283\n"
          ]
        },
        {
          "output_type": "stream",
          "name": "stderr",
          "text": [
            "/usr/local/lib/python3.11/dist-packages/sklearn/linear_model/_logistic.py:1256: FutureWarning: 'multi_class' was deprecated in version 1.5 and will be removed in 1.7. Use OneVsRestClassifier(LogisticRegression(..)) instead. Leave it to its default value to avoid this warning.\n",
            "  warnings.warn(\n"
          ]
        },
        {
          "output_type": "stream",
          "name": "stdout",
          "text": [
            "  Cost: 199.50, Labeled: 1235, AUC: 0.9283\n"
          ]
        },
        {
          "output_type": "stream",
          "name": "stderr",
          "text": [
            "/usr/local/lib/python3.11/dist-packages/sklearn/linear_model/_logistic.py:1256: FutureWarning: 'multi_class' was deprecated in version 1.5 and will be removed in 1.7. Use OneVsRestClassifier(LogisticRegression(..)) instead. Leave it to its default value to avoid this warning.\n",
            "  warnings.warn(\n"
          ]
        },
        {
          "output_type": "stream",
          "name": "stdout",
          "text": [
            "  Cost: 205.20, Labeled: 1236, AUC: 0.9283\n"
          ]
        },
        {
          "output_type": "stream",
          "name": "stderr",
          "text": [
            "/usr/local/lib/python3.11/dist-packages/sklearn/linear_model/_logistic.py:1256: FutureWarning: 'multi_class' was deprecated in version 1.5 and will be removed in 1.7. Use OneVsRestClassifier(LogisticRegression(..)) instead. Leave it to its default value to avoid this warning.\n",
            "  warnings.warn(\n"
          ]
        },
        {
          "output_type": "stream",
          "name": "stdout",
          "text": [
            "  Cost: 210.90, Labeled: 1237, AUC: 0.9283\n"
          ]
        },
        {
          "output_type": "stream",
          "name": "stderr",
          "text": [
            "/usr/local/lib/python3.11/dist-packages/sklearn/linear_model/_logistic.py:1256: FutureWarning: 'multi_class' was deprecated in version 1.5 and will be removed in 1.7. Use OneVsRestClassifier(LogisticRegression(..)) instead. Leave it to its default value to avoid this warning.\n",
            "  warnings.warn(\n"
          ]
        },
        {
          "output_type": "stream",
          "name": "stdout",
          "text": [
            "  Cost: 216.60, Labeled: 1238, AUC: 0.9283\n"
          ]
        },
        {
          "output_type": "stream",
          "name": "stderr",
          "text": [
            "/usr/local/lib/python3.11/dist-packages/sklearn/linear_model/_logistic.py:1256: FutureWarning: 'multi_class' was deprecated in version 1.5 and will be removed in 1.7. Use OneVsRestClassifier(LogisticRegression(..)) instead. Leave it to its default value to avoid this warning.\n",
            "  warnings.warn(\n"
          ]
        },
        {
          "output_type": "stream",
          "name": "stdout",
          "text": [
            "  Cost: 222.30, Labeled: 1239, AUC: 0.9283\n"
          ]
        },
        {
          "output_type": "stream",
          "name": "stderr",
          "text": [
            "/usr/local/lib/python3.11/dist-packages/sklearn/linear_model/_logistic.py:1256: FutureWarning: 'multi_class' was deprecated in version 1.5 and will be removed in 1.7. Use OneVsRestClassifier(LogisticRegression(..)) instead. Leave it to its default value to avoid this warning.\n",
            "  warnings.warn(\n"
          ]
        },
        {
          "output_type": "stream",
          "name": "stdout",
          "text": [
            "  Cost: 228.00, Labeled: 1240, AUC: 0.9283\n"
          ]
        },
        {
          "output_type": "stream",
          "name": "stderr",
          "text": [
            "/usr/local/lib/python3.11/dist-packages/sklearn/linear_model/_logistic.py:1256: FutureWarning: 'multi_class' was deprecated in version 1.5 and will be removed in 1.7. Use OneVsRestClassifier(LogisticRegression(..)) instead. Leave it to its default value to avoid this warning.\n",
            "  warnings.warn(\n"
          ]
        },
        {
          "output_type": "stream",
          "name": "stdout",
          "text": [
            "  Cost: 233.70, Labeled: 1241, AUC: 0.9282\n"
          ]
        },
        {
          "output_type": "stream",
          "name": "stderr",
          "text": [
            "/usr/local/lib/python3.11/dist-packages/sklearn/linear_model/_logistic.py:1256: FutureWarning: 'multi_class' was deprecated in version 1.5 and will be removed in 1.7. Use OneVsRestClassifier(LogisticRegression(..)) instead. Leave it to its default value to avoid this warning.\n",
            "  warnings.warn(\n"
          ]
        },
        {
          "output_type": "stream",
          "name": "stdout",
          "text": [
            "  Cost: 239.40, Labeled: 1242, AUC: 0.9281\n"
          ]
        },
        {
          "output_type": "stream",
          "name": "stderr",
          "text": [
            "/usr/local/lib/python3.11/dist-packages/sklearn/linear_model/_logistic.py:1256: FutureWarning: 'multi_class' was deprecated in version 1.5 and will be removed in 1.7. Use OneVsRestClassifier(LogisticRegression(..)) instead. Leave it to its default value to avoid this warning.\n",
            "  warnings.warn(\n"
          ]
        },
        {
          "output_type": "stream",
          "name": "stdout",
          "text": [
            "  Cost: 245.10, Labeled: 1243, AUC: 0.9281\n"
          ]
        },
        {
          "output_type": "stream",
          "name": "stderr",
          "text": [
            "/usr/local/lib/python3.11/dist-packages/sklearn/linear_model/_logistic.py:1256: FutureWarning: 'multi_class' was deprecated in version 1.5 and will be removed in 1.7. Use OneVsRestClassifier(LogisticRegression(..)) instead. Leave it to its default value to avoid this warning.\n",
            "  warnings.warn(\n"
          ]
        },
        {
          "output_type": "stream",
          "name": "stdout",
          "text": [
            "  Cost: 250.80, Labeled: 1244, AUC: 0.9281\n"
          ]
        },
        {
          "output_type": "stream",
          "name": "stderr",
          "text": [
            "/usr/local/lib/python3.11/dist-packages/sklearn/linear_model/_logistic.py:1256: FutureWarning: 'multi_class' was deprecated in version 1.5 and will be removed in 1.7. Use OneVsRestClassifier(LogisticRegression(..)) instead. Leave it to its default value to avoid this warning.\n",
            "  warnings.warn(\n"
          ]
        },
        {
          "output_type": "stream",
          "name": "stdout",
          "text": [
            "  Cost: 256.50, Labeled: 1245, AUC: 0.9281\n"
          ]
        },
        {
          "output_type": "stream",
          "name": "stderr",
          "text": [
            "/usr/local/lib/python3.11/dist-packages/sklearn/linear_model/_logistic.py:1256: FutureWarning: 'multi_class' was deprecated in version 1.5 and will be removed in 1.7. Use OneVsRestClassifier(LogisticRegression(..)) instead. Leave it to its default value to avoid this warning.\n",
            "  warnings.warn(\n"
          ]
        },
        {
          "output_type": "stream",
          "name": "stdout",
          "text": [
            "  Cost: 262.20, Labeled: 1246, AUC: 0.9281\n"
          ]
        },
        {
          "output_type": "stream",
          "name": "stderr",
          "text": [
            "/usr/local/lib/python3.11/dist-packages/sklearn/linear_model/_logistic.py:1256: FutureWarning: 'multi_class' was deprecated in version 1.5 and will be removed in 1.7. Use OneVsRestClassifier(LogisticRegression(..)) instead. Leave it to its default value to avoid this warning.\n",
            "  warnings.warn(\n"
          ]
        },
        {
          "output_type": "stream",
          "name": "stdout",
          "text": [
            "  Cost: 267.90, Labeled: 1247, AUC: 0.9281\n"
          ]
        },
        {
          "output_type": "stream",
          "name": "stderr",
          "text": [
            "/usr/local/lib/python3.11/dist-packages/sklearn/linear_model/_logistic.py:1256: FutureWarning: 'multi_class' was deprecated in version 1.5 and will be removed in 1.7. Use OneVsRestClassifier(LogisticRegression(..)) instead. Leave it to its default value to avoid this warning.\n",
            "  warnings.warn(\n"
          ]
        },
        {
          "output_type": "stream",
          "name": "stdout",
          "text": [
            "  Cost: 273.60, Labeled: 1248, AUC: 0.9281\n"
          ]
        },
        {
          "output_type": "stream",
          "name": "stderr",
          "text": [
            "/usr/local/lib/python3.11/dist-packages/sklearn/linear_model/_logistic.py:1256: FutureWarning: 'multi_class' was deprecated in version 1.5 and will be removed in 1.7. Use OneVsRestClassifier(LogisticRegression(..)) instead. Leave it to its default value to avoid this warning.\n",
            "  warnings.warn(\n"
          ]
        },
        {
          "output_type": "stream",
          "name": "stdout",
          "text": [
            "  Cost: 279.30, Labeled: 1249, AUC: 0.9280\n"
          ]
        },
        {
          "output_type": "stream",
          "name": "stderr",
          "text": [
            "/usr/local/lib/python3.11/dist-packages/sklearn/linear_model/_logistic.py:1256: FutureWarning: 'multi_class' was deprecated in version 1.5 and will be removed in 1.7. Use OneVsRestClassifier(LogisticRegression(..)) instead. Leave it to its default value to avoid this warning.\n",
            "  warnings.warn(\n"
          ]
        },
        {
          "output_type": "stream",
          "name": "stdout",
          "text": [
            "  Cost: 285.00, Labeled: 1250, AUC: 0.9280\n"
          ]
        },
        {
          "output_type": "stream",
          "name": "stderr",
          "text": [
            "/usr/local/lib/python3.11/dist-packages/sklearn/linear_model/_logistic.py:1256: FutureWarning: 'multi_class' was deprecated in version 1.5 and will be removed in 1.7. Use OneVsRestClassifier(LogisticRegression(..)) instead. Leave it to its default value to avoid this warning.\n",
            "  warnings.warn(\n"
          ]
        },
        {
          "output_type": "stream",
          "name": "stdout",
          "text": [
            "  Cost: 290.70, Labeled: 1251, AUC: 0.9280\n"
          ]
        },
        {
          "output_type": "stream",
          "name": "stderr",
          "text": [
            "/usr/local/lib/python3.11/dist-packages/sklearn/linear_model/_logistic.py:1256: FutureWarning: 'multi_class' was deprecated in version 1.5 and will be removed in 1.7. Use OneVsRestClassifier(LogisticRegression(..)) instead. Leave it to its default value to avoid this warning.\n",
            "  warnings.warn(\n"
          ]
        },
        {
          "output_type": "stream",
          "name": "stdout",
          "text": [
            "  Cost: 296.40, Labeled: 1252, AUC: 0.9280\n"
          ]
        },
        {
          "output_type": "stream",
          "name": "stderr",
          "text": [
            "/usr/local/lib/python3.11/dist-packages/sklearn/linear_model/_logistic.py:1256: FutureWarning: 'multi_class' was deprecated in version 1.5 and will be removed in 1.7. Use OneVsRestClassifier(LogisticRegression(..)) instead. Leave it to its default value to avoid this warning.\n",
            "  warnings.warn(\n"
          ]
        },
        {
          "output_type": "stream",
          "name": "stdout",
          "text": [
            "  Cost: 302.10, Labeled: 1253, AUC: 0.9280\n"
          ]
        },
        {
          "output_type": "stream",
          "name": "stderr",
          "text": [
            "/usr/local/lib/python3.11/dist-packages/sklearn/linear_model/_logistic.py:1256: FutureWarning: 'multi_class' was deprecated in version 1.5 and will be removed in 1.7. Use OneVsRestClassifier(LogisticRegression(..)) instead. Leave it to its default value to avoid this warning.\n",
            "  warnings.warn(\n"
          ]
        },
        {
          "output_type": "stream",
          "name": "stdout",
          "text": [
            "  Cost: 307.80, Labeled: 1254, AUC: 0.9279\n"
          ]
        },
        {
          "output_type": "stream",
          "name": "stderr",
          "text": [
            "/usr/local/lib/python3.11/dist-packages/sklearn/linear_model/_logistic.py:1256: FutureWarning: 'multi_class' was deprecated in version 1.5 and will be removed in 1.7. Use OneVsRestClassifier(LogisticRegression(..)) instead. Leave it to its default value to avoid this warning.\n",
            "  warnings.warn(\n"
          ]
        },
        {
          "output_type": "stream",
          "name": "stdout",
          "text": [
            "  Cost: 313.50, Labeled: 1255, AUC: 0.9279\n"
          ]
        },
        {
          "output_type": "stream",
          "name": "stderr",
          "text": [
            "/usr/local/lib/python3.11/dist-packages/sklearn/linear_model/_logistic.py:1256: FutureWarning: 'multi_class' was deprecated in version 1.5 and will be removed in 1.7. Use OneVsRestClassifier(LogisticRegression(..)) instead. Leave it to its default value to avoid this warning.\n",
            "  warnings.warn(\n"
          ]
        },
        {
          "output_type": "stream",
          "name": "stdout",
          "text": [
            "  Cost: 319.20, Labeled: 1256, AUC: 0.9279\n"
          ]
        },
        {
          "output_type": "stream",
          "name": "stderr",
          "text": [
            "/usr/local/lib/python3.11/dist-packages/sklearn/linear_model/_logistic.py:1256: FutureWarning: 'multi_class' was deprecated in version 1.5 and will be removed in 1.7. Use OneVsRestClassifier(LogisticRegression(..)) instead. Leave it to its default value to avoid this warning.\n",
            "  warnings.warn(\n"
          ]
        },
        {
          "output_type": "stream",
          "name": "stdout",
          "text": [
            "  Cost: 324.90, Labeled: 1257, AUC: 0.9279\n"
          ]
        },
        {
          "output_type": "stream",
          "name": "stderr",
          "text": [
            "/usr/local/lib/python3.11/dist-packages/sklearn/linear_model/_logistic.py:1256: FutureWarning: 'multi_class' was deprecated in version 1.5 and will be removed in 1.7. Use OneVsRestClassifier(LogisticRegression(..)) instead. Leave it to its default value to avoid this warning.\n",
            "  warnings.warn(\n"
          ]
        },
        {
          "output_type": "stream",
          "name": "stdout",
          "text": [
            "  Cost: 330.60, Labeled: 1258, AUC: 0.9279\n"
          ]
        },
        {
          "output_type": "stream",
          "name": "stderr",
          "text": [
            "/usr/local/lib/python3.11/dist-packages/sklearn/linear_model/_logistic.py:1256: FutureWarning: 'multi_class' was deprecated in version 1.5 and will be removed in 1.7. Use OneVsRestClassifier(LogisticRegression(..)) instead. Leave it to its default value to avoid this warning.\n",
            "  warnings.warn(\n"
          ]
        },
        {
          "output_type": "stream",
          "name": "stdout",
          "text": [
            "  Cost: 336.30, Labeled: 1259, AUC: 0.9278\n"
          ]
        },
        {
          "output_type": "stream",
          "name": "stderr",
          "text": [
            "/usr/local/lib/python3.11/dist-packages/sklearn/linear_model/_logistic.py:1256: FutureWarning: 'multi_class' was deprecated in version 1.5 and will be removed in 1.7. Use OneVsRestClassifier(LogisticRegression(..)) instead. Leave it to its default value to avoid this warning.\n",
            "  warnings.warn(\n"
          ]
        },
        {
          "output_type": "stream",
          "name": "stdout",
          "text": [
            "  Cost: 342.00, Labeled: 1260, AUC: 0.9278\n"
          ]
        },
        {
          "output_type": "stream",
          "name": "stderr",
          "text": [
            "/usr/local/lib/python3.11/dist-packages/sklearn/linear_model/_logistic.py:1256: FutureWarning: 'multi_class' was deprecated in version 1.5 and will be removed in 1.7. Use OneVsRestClassifier(LogisticRegression(..)) instead. Leave it to its default value to avoid this warning.\n",
            "  warnings.warn(\n"
          ]
        },
        {
          "output_type": "stream",
          "name": "stdout",
          "text": [
            "  Cost: 347.70, Labeled: 1261, AUC: 0.9278\n"
          ]
        },
        {
          "output_type": "stream",
          "name": "stderr",
          "text": [
            "/usr/local/lib/python3.11/dist-packages/sklearn/linear_model/_logistic.py:1256: FutureWarning: 'multi_class' was deprecated in version 1.5 and will be removed in 1.7. Use OneVsRestClassifier(LogisticRegression(..)) instead. Leave it to its default value to avoid this warning.\n",
            "  warnings.warn(\n"
          ]
        },
        {
          "output_type": "stream",
          "name": "stdout",
          "text": [
            "  Cost: 353.40, Labeled: 1262, AUC: 0.9278\n"
          ]
        },
        {
          "output_type": "stream",
          "name": "stderr",
          "text": [
            "/usr/local/lib/python3.11/dist-packages/sklearn/linear_model/_logistic.py:1256: FutureWarning: 'multi_class' was deprecated in version 1.5 and will be removed in 1.7. Use OneVsRestClassifier(LogisticRegression(..)) instead. Leave it to its default value to avoid this warning.\n",
            "  warnings.warn(\n"
          ]
        },
        {
          "output_type": "stream",
          "name": "stdout",
          "text": [
            "  Cost: 359.10, Labeled: 1263, AUC: 0.9277\n"
          ]
        },
        {
          "output_type": "stream",
          "name": "stderr",
          "text": [
            "/usr/local/lib/python3.11/dist-packages/sklearn/linear_model/_logistic.py:1256: FutureWarning: 'multi_class' was deprecated in version 1.5 and will be removed in 1.7. Use OneVsRestClassifier(LogisticRegression(..)) instead. Leave it to its default value to avoid this warning.\n",
            "  warnings.warn(\n"
          ]
        },
        {
          "output_type": "stream",
          "name": "stdout",
          "text": [
            "  Cost: 364.80, Labeled: 1264, AUC: 0.9277\n"
          ]
        },
        {
          "output_type": "stream",
          "name": "stderr",
          "text": [
            "/usr/local/lib/python3.11/dist-packages/sklearn/linear_model/_logistic.py:1256: FutureWarning: 'multi_class' was deprecated in version 1.5 and will be removed in 1.7. Use OneVsRestClassifier(LogisticRegression(..)) instead. Leave it to its default value to avoid this warning.\n",
            "  warnings.warn(\n"
          ]
        },
        {
          "output_type": "stream",
          "name": "stdout",
          "text": [
            "  Cost: 370.50, Labeled: 1265, AUC: 0.9275\n"
          ]
        },
        {
          "output_type": "stream",
          "name": "stderr",
          "text": [
            "/usr/local/lib/python3.11/dist-packages/sklearn/linear_model/_logistic.py:1256: FutureWarning: 'multi_class' was deprecated in version 1.5 and will be removed in 1.7. Use OneVsRestClassifier(LogisticRegression(..)) instead. Leave it to its default value to avoid this warning.\n",
            "  warnings.warn(\n"
          ]
        },
        {
          "output_type": "stream",
          "name": "stdout",
          "text": [
            "  Cost: 376.20, Labeled: 1266, AUC: 0.9275\n"
          ]
        },
        {
          "output_type": "stream",
          "name": "stderr",
          "text": [
            "/usr/local/lib/python3.11/dist-packages/sklearn/linear_model/_logistic.py:1256: FutureWarning: 'multi_class' was deprecated in version 1.5 and will be removed in 1.7. Use OneVsRestClassifier(LogisticRegression(..)) instead. Leave it to its default value to avoid this warning.\n",
            "  warnings.warn(\n"
          ]
        },
        {
          "output_type": "stream",
          "name": "stdout",
          "text": [
            "  Cost: 381.90, Labeled: 1267, AUC: 0.9275\n"
          ]
        },
        {
          "output_type": "stream",
          "name": "stderr",
          "text": [
            "/usr/local/lib/python3.11/dist-packages/sklearn/linear_model/_logistic.py:1256: FutureWarning: 'multi_class' was deprecated in version 1.5 and will be removed in 1.7. Use OneVsRestClassifier(LogisticRegression(..)) instead. Leave it to its default value to avoid this warning.\n",
            "  warnings.warn(\n"
          ]
        },
        {
          "output_type": "stream",
          "name": "stdout",
          "text": [
            "  Cost: 387.60, Labeled: 1268, AUC: 0.9275\n"
          ]
        },
        {
          "output_type": "stream",
          "name": "stderr",
          "text": [
            "/usr/local/lib/python3.11/dist-packages/sklearn/linear_model/_logistic.py:1256: FutureWarning: 'multi_class' was deprecated in version 1.5 and will be removed in 1.7. Use OneVsRestClassifier(LogisticRegression(..)) instead. Leave it to its default value to avoid this warning.\n",
            "  warnings.warn(\n"
          ]
        },
        {
          "output_type": "stream",
          "name": "stdout",
          "text": [
            "  Cost: 393.30, Labeled: 1269, AUC: 0.9275\n"
          ]
        },
        {
          "output_type": "stream",
          "name": "stderr",
          "text": [
            "/usr/local/lib/python3.11/dist-packages/sklearn/linear_model/_logistic.py:1256: FutureWarning: 'multi_class' was deprecated in version 1.5 and will be removed in 1.7. Use OneVsRestClassifier(LogisticRegression(..)) instead. Leave it to its default value to avoid this warning.\n",
            "  warnings.warn(\n"
          ]
        },
        {
          "output_type": "stream",
          "name": "stdout",
          "text": [
            "  Cost: 399.00, Labeled: 1270, AUC: 0.9275\n"
          ]
        },
        {
          "output_type": "stream",
          "name": "stderr",
          "text": [
            "/usr/local/lib/python3.11/dist-packages/sklearn/linear_model/_logistic.py:1256: FutureWarning: 'multi_class' was deprecated in version 1.5 and will be removed in 1.7. Use OneVsRestClassifier(LogisticRegression(..)) instead. Leave it to its default value to avoid this warning.\n",
            "  warnings.warn(\n"
          ]
        },
        {
          "output_type": "stream",
          "name": "stdout",
          "text": [
            "  Cost: 404.70, Labeled: 1271, AUC: 0.9275\n"
          ]
        },
        {
          "output_type": "stream",
          "name": "stderr",
          "text": [
            "/usr/local/lib/python3.11/dist-packages/sklearn/linear_model/_logistic.py:1256: FutureWarning: 'multi_class' was deprecated in version 1.5 and will be removed in 1.7. Use OneVsRestClassifier(LogisticRegression(..)) instead. Leave it to its default value to avoid this warning.\n",
            "  warnings.warn(\n"
          ]
        },
        {
          "output_type": "stream",
          "name": "stdout",
          "text": [
            "  Cost: 410.40, Labeled: 1272, AUC: 0.9275\n"
          ]
        },
        {
          "output_type": "stream",
          "name": "stderr",
          "text": [
            "/usr/local/lib/python3.11/dist-packages/sklearn/linear_model/_logistic.py:1256: FutureWarning: 'multi_class' was deprecated in version 1.5 and will be removed in 1.7. Use OneVsRestClassifier(LogisticRegression(..)) instead. Leave it to its default value to avoid this warning.\n",
            "  warnings.warn(\n"
          ]
        },
        {
          "output_type": "stream",
          "name": "stdout",
          "text": [
            "  Cost: 416.10, Labeled: 1273, AUC: 0.9275\n"
          ]
        },
        {
          "output_type": "stream",
          "name": "stderr",
          "text": [
            "/usr/local/lib/python3.11/dist-packages/sklearn/linear_model/_logistic.py:1256: FutureWarning: 'multi_class' was deprecated in version 1.5 and will be removed in 1.7. Use OneVsRestClassifier(LogisticRegression(..)) instead. Leave it to its default value to avoid this warning.\n",
            "  warnings.warn(\n"
          ]
        },
        {
          "output_type": "stream",
          "name": "stdout",
          "text": [
            "  Cost: 421.80, Labeled: 1274, AUC: 0.9276\n"
          ]
        },
        {
          "output_type": "stream",
          "name": "stderr",
          "text": [
            "/usr/local/lib/python3.11/dist-packages/sklearn/linear_model/_logistic.py:1256: FutureWarning: 'multi_class' was deprecated in version 1.5 and will be removed in 1.7. Use OneVsRestClassifier(LogisticRegression(..)) instead. Leave it to its default value to avoid this warning.\n",
            "  warnings.warn(\n"
          ]
        },
        {
          "output_type": "stream",
          "name": "stdout",
          "text": [
            "  Cost: 427.50, Labeled: 1275, AUC: 0.9275\n"
          ]
        },
        {
          "output_type": "stream",
          "name": "stderr",
          "text": [
            "/usr/local/lib/python3.11/dist-packages/sklearn/linear_model/_logistic.py:1256: FutureWarning: 'multi_class' was deprecated in version 1.5 and will be removed in 1.7. Use OneVsRestClassifier(LogisticRegression(..)) instead. Leave it to its default value to avoid this warning.\n",
            "  warnings.warn(\n"
          ]
        },
        {
          "output_type": "stream",
          "name": "stdout",
          "text": [
            "  Cost: 433.20, Labeled: 1276, AUC: 0.9275\n"
          ]
        },
        {
          "output_type": "stream",
          "name": "stderr",
          "text": [
            "/usr/local/lib/python3.11/dist-packages/sklearn/linear_model/_logistic.py:1256: FutureWarning: 'multi_class' was deprecated in version 1.5 and will be removed in 1.7. Use OneVsRestClassifier(LogisticRegression(..)) instead. Leave it to its default value to avoid this warning.\n",
            "  warnings.warn(\n"
          ]
        },
        {
          "output_type": "stream",
          "name": "stdout",
          "text": [
            "  Cost: 438.90, Labeled: 1277, AUC: 0.9275\n"
          ]
        },
        {
          "output_type": "stream",
          "name": "stderr",
          "text": [
            "/usr/local/lib/python3.11/dist-packages/sklearn/linear_model/_logistic.py:1256: FutureWarning: 'multi_class' was deprecated in version 1.5 and will be removed in 1.7. Use OneVsRestClassifier(LogisticRegression(..)) instead. Leave it to its default value to avoid this warning.\n",
            "  warnings.warn(\n"
          ]
        },
        {
          "output_type": "stream",
          "name": "stdout",
          "text": [
            "  Cost: 444.60, Labeled: 1278, AUC: 0.9275\n"
          ]
        },
        {
          "output_type": "stream",
          "name": "stderr",
          "text": [
            "/usr/local/lib/python3.11/dist-packages/sklearn/linear_model/_logistic.py:1256: FutureWarning: 'multi_class' was deprecated in version 1.5 and will be removed in 1.7. Use OneVsRestClassifier(LogisticRegression(..)) instead. Leave it to its default value to avoid this warning.\n",
            "  warnings.warn(\n"
          ]
        },
        {
          "output_type": "stream",
          "name": "stdout",
          "text": [
            "  Cost: 450.30, Labeled: 1279, AUC: 0.9274\n"
          ]
        },
        {
          "output_type": "stream",
          "name": "stderr",
          "text": [
            "/usr/local/lib/python3.11/dist-packages/sklearn/linear_model/_logistic.py:1256: FutureWarning: 'multi_class' was deprecated in version 1.5 and will be removed in 1.7. Use OneVsRestClassifier(LogisticRegression(..)) instead. Leave it to its default value to avoid this warning.\n",
            "  warnings.warn(\n"
          ]
        },
        {
          "output_type": "stream",
          "name": "stdout",
          "text": [
            "  Cost: 456.00, Labeled: 1280, AUC: 0.9275\n"
          ]
        },
        {
          "output_type": "stream",
          "name": "stderr",
          "text": [
            "/usr/local/lib/python3.11/dist-packages/sklearn/linear_model/_logistic.py:1256: FutureWarning: 'multi_class' was deprecated in version 1.5 and will be removed in 1.7. Use OneVsRestClassifier(LogisticRegression(..)) instead. Leave it to its default value to avoid this warning.\n",
            "  warnings.warn(\n"
          ]
        },
        {
          "output_type": "stream",
          "name": "stdout",
          "text": [
            "  Cost: 461.70, Labeled: 1281, AUC: 0.9275\n"
          ]
        },
        {
          "output_type": "stream",
          "name": "stderr",
          "text": [
            "/usr/local/lib/python3.11/dist-packages/sklearn/linear_model/_logistic.py:1256: FutureWarning: 'multi_class' was deprecated in version 1.5 and will be removed in 1.7. Use OneVsRestClassifier(LogisticRegression(..)) instead. Leave it to its default value to avoid this warning.\n",
            "  warnings.warn(\n"
          ]
        },
        {
          "output_type": "stream",
          "name": "stdout",
          "text": [
            "  Cost: 467.40, Labeled: 1282, AUC: 0.9275\n"
          ]
        },
        {
          "output_type": "stream",
          "name": "stderr",
          "text": [
            "/usr/local/lib/python3.11/dist-packages/sklearn/linear_model/_logistic.py:1256: FutureWarning: 'multi_class' was deprecated in version 1.5 and will be removed in 1.7. Use OneVsRestClassifier(LogisticRegression(..)) instead. Leave it to its default value to avoid this warning.\n",
            "  warnings.warn(\n"
          ]
        },
        {
          "output_type": "stream",
          "name": "stdout",
          "text": [
            "  Cost: 473.10, Labeled: 1283, AUC: 0.9275\n"
          ]
        },
        {
          "output_type": "stream",
          "name": "stderr",
          "text": [
            "/usr/local/lib/python3.11/dist-packages/sklearn/linear_model/_logistic.py:1256: FutureWarning: 'multi_class' was deprecated in version 1.5 and will be removed in 1.7. Use OneVsRestClassifier(LogisticRegression(..)) instead. Leave it to its default value to avoid this warning.\n",
            "  warnings.warn(\n"
          ]
        },
        {
          "output_type": "stream",
          "name": "stdout",
          "text": [
            "  Cost: 478.80, Labeled: 1284, AUC: 0.9275\n"
          ]
        },
        {
          "output_type": "stream",
          "name": "stderr",
          "text": [
            "/usr/local/lib/python3.11/dist-packages/sklearn/linear_model/_logistic.py:1256: FutureWarning: 'multi_class' was deprecated in version 1.5 and will be removed in 1.7. Use OneVsRestClassifier(LogisticRegression(..)) instead. Leave it to its default value to avoid this warning.\n",
            "  warnings.warn(\n"
          ]
        },
        {
          "output_type": "stream",
          "name": "stdout",
          "text": [
            "  Cost: 484.50, Labeled: 1285, AUC: 0.9275\n"
          ]
        },
        {
          "output_type": "stream",
          "name": "stderr",
          "text": [
            "/usr/local/lib/python3.11/dist-packages/sklearn/linear_model/_logistic.py:1256: FutureWarning: 'multi_class' was deprecated in version 1.5 and will be removed in 1.7. Use OneVsRestClassifier(LogisticRegression(..)) instead. Leave it to its default value to avoid this warning.\n",
            "  warnings.warn(\n"
          ]
        },
        {
          "output_type": "stream",
          "name": "stdout",
          "text": [
            "  Cost: 490.20, Labeled: 1286, AUC: 0.9276\n"
          ]
        },
        {
          "output_type": "stream",
          "name": "stderr",
          "text": [
            "/usr/local/lib/python3.11/dist-packages/sklearn/linear_model/_logistic.py:1256: FutureWarning: 'multi_class' was deprecated in version 1.5 and will be removed in 1.7. Use OneVsRestClassifier(LogisticRegression(..)) instead. Leave it to its default value to avoid this warning.\n",
            "  warnings.warn(\n"
          ]
        },
        {
          "output_type": "stream",
          "name": "stdout",
          "text": [
            "  Cost: 495.90, Labeled: 1287, AUC: 0.9275\n",
            "  Cost: 501.60, Labeled: 1288, AUC: 0.9276\n",
            "dynamic experiment finished. Total Labeled: 1288, Final AUC: 0.9276\n",
            "\n",
            "--- Semua eksperimen selesai ---\n"
          ]
        },
        {
          "output_type": "stream",
          "name": "stderr",
          "text": [
            "/usr/local/lib/python3.11/dist-packages/sklearn/linear_model/_logistic.py:1256: FutureWarning: 'multi_class' was deprecated in version 1.5 and will be removed in 1.7. Use OneVsRestClassifier(LogisticRegression(..)) instead. Leave it to its default value to avoid this warning.\n",
            "  warnings.warn(\n"
          ]
        }
      ]
    },
    {
      "cell_type": "code",
      "source": [
        "# @title Step 7: Plotting Hasil Perbandingan\n",
        "print(\"Step 7: Membuat plot perbandingan hasil eksperimen.\")\n",
        "\n",
        "plt.figure(figsize=(14, 9)) # Ukuran plot yang lebih besar untuk banyak garis\n",
        "\n",
        "# Plot untuk Static AAL dengan berbagai nilai k (Uncertainty)\n",
        "plt.plot(cost_static_k10_unc, auc_static_k10_unc, label='Static AAL (k=10, Unc)', linestyle='-', color='blue', alpha=0.8)\n",
        "plt.plot(cost_static_k25_unc, auc_static_k25_unc, label='Static AAL (k=25, Unc)', linestyle='-', color='cyan', alpha=0.8)\n",
        "plt.plot(cost_static_k100_unc, auc_static_k100_unc, label='Static AAL (k=100, Unc)', linestyle='-', color='darkblue', alpha=0.8)\n",
        "\n",
        "# Plot untuk Traditional Active Learning\n",
        "plt.plot(cost_traditional_al, auc_traditional_al, label='Traditional AL (Unc)', linestyle='--', color='red', linewidth=2)\n",
        "\n",
        "# Plot untuk Dynamic AAL (Uncertainty)\n",
        "plt.plot(cost_dynamic_unc, auc_dynamic_unc, label='Dynamic AAL (Unc)', linestyle='-', color='green', linewidth=3)\n",
        "\n",
        "# Plot untuk Dynamic AAL (Constant Utility)\n",
        "plt.plot(cost_dynamic_const, auc_dynamic_const, label='Dynamic AAL (Const)', linestyle=':', color='brown', linewidth=3)\n",
        "\n",
        "\n",
        "plt.xlabel(\"Cost (seconds)\")\n",
        "plt.ylabel(\"AUC Score\")\n",
        "plt.title(\"Perbandingan Strategi Anytime Active Learning\")\n",
        "plt.legend(loc='lower right') # Posisi legend di pojok kanan bawah\n",
        "plt.grid(True) # Menampilkan grid\n",
        "plt.xscale('log') # Skala logaritmik untuk sumbu X (biaya) agar lebih mudah dibaca, karena biaya cenderung terdistribusi secara logaritmik.\n",
        "plt.ylim(0.5, 1.0) # Batasi rentang sumbu Y dari 0.5 (kinerja acak) hingga 1.0 (sempurna)\n",
        "plt.show()\n",
        "\n",
        "print(\"Plot perbandingan telah ditampilkan.\")"
      ],
      "metadata": {
        "colab": {
          "base_uri": "https://localhost:8080/",
          "height": 835
        },
        "id": "PwFdPxiatU5Y",
        "outputId": "ce82783f-79cf-4c72-b560-12b079f32a20"
      },
      "execution_count": 12,
      "outputs": [
        {
          "output_type": "stream",
          "name": "stdout",
          "text": [
            "Step 7: Membuat plot perbandingan hasil eksperimen.\n"
          ]
        },
        {
          "output_type": "display_data",
          "data": {
            "text/plain": [
              "<Figure size 1400x900 with 1 Axes>"
            ],
            "image/png": "[encoded data removed]"
          },
          "metadata": {}
        },
        {
          "output_type": "stream",
          "name": "stdout",
          "text": [
            "Plot perbandingan telah ditampilkan.\n"
          ]
        }
      ]
    },
    {
      "cell_type": "code",
      "source": [
        "# @title Step 7: Plotting Hasil Perbandingan (HANYA DYNAMIC)\n",
        "print(\"Step 7: Membuat plot perbandingan hasil eksperimen Dynamic AAL.\")\n",
        "\n",
        "plt.figure(figsize=(10, 7)) # Ukuran plot\n",
        "\n",
        "# Plot untuk Dynamic AAL (Uncertainty)\n",
        "plt.plot(cost_dynamic_unc, auc_dynamic_unc, label='Dynamic AAL (Unc)', linestyle='-', color='green', linewidth=2)\n",
        "\n",
        "# Plot untuk Dynamic AAL (Constant Utility)\n",
        "plt.plot(cost_dynamic_const, auc_dynamic_const, label='Dynamic AAL (Const)', linestyle=':', color='brown', linewidth=2)\n",
        "\n",
        "\n",
        "plt.xlabel(\"Cost (seconds)\")\n",
        "plt.ylabel(\"AUC Score\")\n",
        "plt.title(\"Perbandingan Strategi Dynamic Anytime Active Learning\")\n",
        "plt.legend(loc='lower right')\n",
        "plt.grid(True)\n",
        "plt.xscale('log')\n",
        "plt.ylim(0.5, 1.0)\n",
        "plt.show()\n",
        "\n",
        "print(\"Plot perbandingan Dynamic AAL telah ditampilkan.\")"
      ],
      "metadata": {
        "colab": {
          "base_uri": "https://localhost:8080/",
          "height": 681
        },
        "id": "uCFPBDQBt776",
        "outputId": "cdaaaaec-0f52-40d9-c2b4-c160f3ed2e1b"
      },
      "execution_count": 14,
      "outputs": [
        {
          "output_type": "stream",
          "name": "stdout",
          "text": [
            "Step 7: Membuat plot perbandingan hasil eksperimen Dynamic AAL.\n"
          ]
        },
        {
          "output_type": "display_data",
          "data": {
            "text/plain": [
              "<Figure size 1000x700 with 1 Axes>"
            ],
            "image/png": "[encoded data removed]"
          },
          "metadata": {}
        },
        {
          "output_type": "stream",
          "name": "stdout",
          "text": [
            "Plot perbandingan Dynamic AAL telah ditampilkan.\n"
          ]
        }
      ]
    }
  ]
}